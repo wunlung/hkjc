{
 "cells": [
  {
   "cell_type": "code",
   "execution_count": 93,
   "metadata": {
    "collapsed": true
   },
   "outputs": [],
   "source": [
    "import requests\n",
    "from bs4 import BeautifulSoup\n",
    "import pandas as pd\n",
    "import re\n",
    "\n",
    "def get_label(home_score,away_score):\n",
    "    if home_score == away_score:\n",
    "        label = 'D'\n",
    "    elif home_score > away_score:\n",
    "        label = 'H'\n",
    "    elif home_score < away_score:\n",
    "        label = 'A'\n",
    "    return label\n",
    "\n",
    "def get_match_info(soup,_id):\n",
    "    match_table = soup.find_all('table', {\"id\":\"matchs_table\"})[0]\n",
    "    match_title = match_table.find_all('span',{\"class\":\"odds_second_title\"})[0]\n",
    "    title = match_title.contents[0].strip()\n",
    "    match_result = match_table.find_all('span')[1].contents[-1].strip()\n",
    "    time_raw = match_table.find_all('span',{\"class\":\"odds_first_title\"})[0].contents[0]\n",
    "    match_time = '2017-' + time_raw[-12:].strip() + ':00'\n",
    "    final_result = re.sub('\\(.*\\) ','',match_result)\n",
    "    if len(final_result.split(':')) > 1:\n",
    "        home_score = int(final_result.split(':')[0].strip())\n",
    "        away_score = int(final_result.split(':')[1].strip())\n",
    "    else:\n",
    "        home_score = -1\n",
    "        away_score = -1\n",
    "    label = get_label(home_score,away_score)\n",
    "    \n",
    "    info = {'id' : _id,\n",
    "            'title': title,\n",
    "            'match_time' : match_time,\n",
    "            'match_result' : match_result,\n",
    "            'home_score' : home_score,\n",
    "            'away_score': away_score,\n",
    "            'label' : label,\n",
    "            'match_table' : match_table\n",
    "    }\n",
    "    \n",
    "    return info\n",
    "\n",
    "#########################################################################\n",
    "\n",
    "def enhanced_df(df,  match_info, df_type='hdw'):\n",
    "    df_result = df\n",
    "    if df_type == 'hdw':\n",
    "        df_result['HOME'] = df_result['HDW'].apply(lambda x:x[0])\n",
    "        df_result['DRAW'] = df_result['HDW'].apply(lambda x:x[1])\n",
    "        df_result['AWAY'] = df_result['HDW'].apply(lambda x:x[2])\n",
    "    elif df_type == 'handi':\n",
    "        df_result['HOME'] = df_result['HA'].apply(lambda x:x[0])\n",
    "        df_result['AWAY'] = df_result['HA'].apply(lambda x:x[1])         \n",
    "    df_result['LABEL'] = match_info['label']\n",
    "    df_result['ID'] = match_info['id']\n",
    "    df_result['MATCH_TIME'] = match_info['match_time']\n",
    "    df_result['TITLE'] = match_info['title']\n",
    "    df_result['MATCH_TIME'] = df_result['MATCH_TIME'].astype('datetime64')\n",
    "    df_result['MATCH_RESULT'] = match_info['match_result']\n",
    "    df_result['HOME_SCORE'] = match_info['home_score']\n",
    "    df_result['AWAY_SCORE'] = match_info['away_score']\n",
    "    df_result['DELTA'] = df_result['MATCH_TIME'] - df_result['TIME']\n",
    "    df_result['HOME_LAG'] = df_result.HOME.shift(1)\n",
    "    df_result['AWAY_LAG'] = df_result.AWAY.shift(1)\n",
    "    df_result['HOME_CHANGE'] = df_result.apply(lambda rec: up_down(rec['HOME'],rec['HOME_LAG']),axis=1)\n",
    "    df_result['AWAY_CHANGE'] = df_result.apply(lambda rec: up_down(rec['AWAY'],rec['AWAY_LAG']),axis=1)\n",
    "    return df_result\n",
    "#########################################################################\n",
    "\n",
    "def get_hdw(match_info):\n",
    "    if match_info['match_table'].find('div',{'id':'collapse_odds_org_'+str(match_info['id'])}) is None:\n",
    "        return None\n",
    "    odds_table = match_info['match_table'].find('div',{'id':'collapse_odds_org_'+str(match_info['id'])}).find_all('table')[0]\n",
    "    #match_info['match_table'].find_all('table',{\"class\":\"table table-condensed table-striped table-hover odds_detail\"})[0]\n",
    "    \n",
    "    ### times array\n",
    "    time_arr = []\n",
    "    for time in odds_table.find_all('span', {'class':'odds_time'}):\n",
    "        t = '2017-' + time.contents[0].strip().replace('\\t','').replace('\\n',' ') +':00'\n",
    "        revised_t = pd.to_datetime(t)\n",
    "        time_arr.append(revised_t)\n",
    "        \n",
    "    ### odds array\n",
    "    odds_arr = []\n",
    "    i=0\n",
    "    odds_row = [] \n",
    "    for odds in odds_table.find_all('a'):\n",
    "        i+=1\n",
    "        o = odds.contents[0].strip()\n",
    "        revised_o = float(re.sub('\\(.*\\)','',o))\n",
    "        odds_row.append(revised_o)        \n",
    "        if i%3==0:\n",
    "            odds_tuple = tuple(odds_row) \n",
    "            odds_arr.append(odds_tuple)\n",
    "            odds_row = []\n",
    "    hdw_result = list(zip(time_arr,odds_arr))\n",
    "    df_hdw = pd.DataFrame(hdw_result)\n",
    "    df_hdw.columns = ['TIME','HDW']\n",
    "    df_hdw = enhanced_df(df_hdw, match_info, df_type='hdw')\n",
    "    return df_hdw\n",
    "\n",
    "def get_handi(match_info):\n",
    "    if match_info['match_table'].find('div',{'id':'collapse_odds_handicap_'+str(match_info['id'])}) is None:\n",
    "        return None\n",
    "    odds_handi_table = match_info['match_table'].find('div',{'id':'collapse_odds_handicap_'+str(match_info['id'])}).find_all('table')[0]\n",
    "    #match_info['match_table'].find_all('table',{\"class\":\"table table-condensed table-striped table-hover odds_detail\"})[2]\n",
    "    \n",
    "    ### times array\n",
    "    time_arr = []\n",
    "    for time in odds_handi_table.find_all('span', {'class':'odds_time'}):\n",
    "        t = '2017-' + time.contents[0].strip().replace('\\t','').replace('\\n',' ') +':00'\n",
    "        revised_t = pd.to_datetime(t)\n",
    "        time_arr.append(revised_t)\n",
    "    \n",
    "    ### odds line array\n",
    "    line_arr = []\n",
    "    for line in odds_handi_table.find_all('span',{'class':'odds_line'}):\n",
    "        l = line.contents[0].strip().replace('\\t','').replace('\\n',' ')\n",
    "        line_arr.append(l)\n",
    "    \n",
    "    ### odds array\n",
    "    odds_arr = []\n",
    "    i=0\n",
    "    odds_row = [] \n",
    "    for odds in odds_handi_table.find_all('a'):\n",
    "        i+=1\n",
    "        o = odds.contents[0].strip()\n",
    "        revised_o = float(re.sub('\\(.*\\)','',o))\n",
    "        odds_row.append(revised_o)    \n",
    "        if i%2==0:\n",
    "            odds_tuple = tuple(odds_row) \n",
    "            odds_arr.append(odds_tuple)\n",
    "            odds_row = []\n",
    "    handi_result = list(zip(time_arr, line_arr, odds_arr))\n",
    "    df_handi = pd.DataFrame(handi_result)\n",
    "    df_handi.columns = ['TIME','LINE','HA']\n",
    "    df_handi = enhanced_df(df_handi, match_info, df_type='handi')\n",
    "    return df_handi\n",
    "\n",
    "import math\n",
    "def up_down(HOME,HOME_LAG):\n",
    "    if  math.isnan(HOME_LAG) or HOME_LAG==HOME:\n",
    "        return '0'\n",
    "    elif HOME > HOME_LAG:\n",
    "        return '+'\n",
    "    elif HOME < HOME_LAG:\n",
    "        return '-'\n",
    "    \n",
    "def get_soup(_id):\n",
    "    url = 'http://hkjcodds.com/match_board/' + str(_id)\n",
    "    r = requests.get(url,verify=False)\n",
    "    text = r.content.decode()\n",
    "    soup = BeautifulSoup(text, 'html.parser')\n",
    "    return soup\n"
   ]
  },
  {
   "cell_type": "code",
   "execution_count": 8,
   "metadata": {
    "collapsed": true
   },
   "outputs": [],
   "source": [
    "df_all_hdw = None\n",
    "df_all_handi = None\n",
    "81000"
   ]
  },
  {
   "cell_type": "code",
   "execution_count": 55,
   "metadata": {},
   "outputs": [
    {
     "name": "stdout",
     "output_type": "stream",
     "text": [
      "116886\n"
     ]
    }
   ],
   "source": [
    "print(_id)"
   ]
  },
  {
   "cell_type": "code",
   "execution_count": 109,
   "metadata": {},
   "outputs": [],
   "source": [
    "for _id in reversed(range(min(df_all_handi.ID)-1000,min(df_all_handi.ID))):\n",
    "    #print(_id)\n",
    "    try:\n",
    "        soup = get_soup(_id)    \n",
    "        match_info = get_match_info(soup,_id)\n",
    "        #df_hdw = get_hdw(match_info)\n",
    "        df_handi = get_handi(match_info)\n",
    "\n",
    "        #df_all_hdw = pd.concat([df_all_hdw, df_hdw])\n",
    "        df_all_handi =  pd.concat([df_all_handi, df_handi])\n",
    "    except:\n",
    "        pass"
   ]
  },
  {
   "cell_type": "code",
   "execution_count": null,
   "metadata": {
    "collapsed": true
   },
   "outputs": [],
   "source": [
    "for _id in range(max(df_all_handi.ID),119037):\n",
    "    #print(_id)\n",
    "    try:\n",
    "        soup = get_soup(_id)    \n",
    "        match_info = get_match_info(soup,_id)\n",
    "        #df_hdw = get_hdw(match_info)\n",
    "        df_handi = get_handi(match_info)\n",
    "\n",
    "        #df_all_hdw = pd.concat([df_all_hdw, df_hdw])\n",
    "        df_all_handi =  pd.concat([df_all_handi, df_handi])\n",
    "    except:\n",
    "        pass"
   ]
  },
  {
   "cell_type": "code",
   "execution_count": 110,
   "metadata": {
    "collapsed": true
   },
   "outputs": [],
   "source": [
    "df_all_handi = df_all_handi[df_all_handi.MATCH_RESULT.apply(lambda x: len(re.sub('\\(.*\\) ','',x).split(':'))>1 )]"
   ]
  },
  {
   "cell_type": "code",
   "execution_count": 112,
   "metadata": {},
   "outputs": [
    {
     "data": {
      "text/plain": [
       "(99754, 118967)"
      ]
     },
     "execution_count": 112,
     "metadata": {},
     "output_type": "execute_result"
    }
   ],
   "source": [
    "min(df_all_handi.ID), max(df_all_handi.ID)"
   ]
  },
  {
   "cell_type": "code",
   "execution_count": 113,
   "metadata": {},
   "outputs": [
    {
     "data": {
      "text/plain": [
       "(99754, 118967)"
      ]
     },
     "execution_count": 113,
     "metadata": {},
     "output_type": "execute_result"
    }
   ],
   "source": [
    "min(df_all_handi.ID), max(df_all_handi.ID)"
   ]
  },
  {
   "cell_type": "code",
   "execution_count": 108,
   "metadata": {},
   "outputs": [
    {
     "data": {
      "text/plain": [
       "74663"
      ]
     },
     "execution_count": 108,
     "metadata": {},
     "output_type": "execute_result"
    }
   ],
   "source": [
    "len(df_all_handi)"
   ]
  },
  {
   "cell_type": "code",
   "execution_count": 104,
   "metadata": {
    "collapsed": true
   },
   "outputs": [],
   "source": [
    "df_all_handi.to_pickle('handi.pkl')"
   ]
  },
  {
   "cell_type": "code",
   "execution_count": null,
   "metadata": {
    "collapsed": true
   },
   "outputs": [],
   "source": []
  }
 ],
 "metadata": {
  "anaconda-cloud": {},
  "kernelspec": {
   "display_name": "Python [Root]",
   "language": "python",
   "name": "Python [Root]"
  },
  "language_info": {
   "codemirror_mode": {
    "name": "ipython",
    "version": 3
   },
   "file_extension": ".py",
   "mimetype": "text/x-python",
   "name": "python",
   "nbconvert_exporter": "python",
   "pygments_lexer": "ipython3",
   "version": "3.5.2"
  }
 },
 "nbformat": 4,
 "nbformat_minor": 1
}
