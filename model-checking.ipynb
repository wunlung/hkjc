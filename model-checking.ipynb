{
 "cells": [
  {
   "cell_type": "code",
   "execution_count": 30,
   "metadata": {},
   "outputs": [
    {
     "name": "stdout",
     "output_type": "stream",
     "text": [
      "The autoreload extension is already loaded. To reload it, use:\n",
      "  %reload_ext autoreload\n"
     ]
    }
   ],
   "source": [
    "%load_ext autoreload\n",
    "%autoreload 2\n",
    "import blackhkjc as bh\n",
    "import pandas as pd\n",
    "import re\n",
    "df = pd.read_pickle('handi.pkl')\n",
    "df = df[df.HOME_TREND.apply(lambda x:len(x)) >=5]\n"
   ]
  },
  {
   "cell_type": "code",
   "execution_count": 31,
   "metadata": {
    "collapsed": true
   },
   "outputs": [],
   "source": [
    "ivd = {v: k for k, v in bh.line_mapping.items()}"
   ]
  },
  {
   "cell_type": "code",
   "execution_count": 32,
   "metadata": {},
   "outputs": [
    {
     "data": {
      "text/plain": [
       "66730"
      ]
     },
     "execution_count": 32,
     "metadata": {},
     "output_type": "execute_result"
    }
   ],
   "source": [
    "len(df)"
   ]
  },
  {
   "cell_type": "code",
   "execution_count": 33,
   "metadata": {
    "collapsed": true
   },
   "outputs": [],
   "source": [
    "df_pat = df.copy()\n",
    "#number_repeating_pattern = 5\n",
    "#pattern = r'0-{' + str(number_repeating_pattern) + r'}'\n",
    "pattern = r'0-{5,}$'\n",
    "df_pat['A_PAT_FOUND'] = df_pat.AWAY_TREND.apply(lambda x: 'Y' if re.findall(pattern,x) else 'N')\n",
    "df_pat['H_PAT_FOUND'] = df_pat.HOME_TREND.apply(lambda x: 'Y' if re.findall(pattern,x) else 'N')\n",
    "df_pat['PAT_FOUND'] = df_pat.apply(lambda rec: 'Y' if ((rec['A_PAT_FOUND'] =='Y') or (rec['H_PAT_FOUND']=='Y')) else 'N',axis=1)\n",
    "\n",
    "# Generate Summary\n",
    "df_summary = df_pat[df_pat['PAT_FOUND'] == 'Y']\n",
    "\n",
    "# Generate Summary\n",
    "df_found_init = df_summary.copy()\n",
    "#df_found_init"
   ]
  },
  {
   "cell_type": "code",
   "execution_count": 34,
   "metadata": {},
   "outputs": [
    {
     "name": "stdout",
     "output_type": "stream",
     "text": [
      "000 (+2/+2.5)    001      (+2)    002 (+1.5/+2)    003    (+1.5)    004 (+1/+1.5)    005      (+1)    \n",
      "006 (+0.5/+1)    007    (+0.5)    008  (0/+0.5)    009       (0)    010  (0/-0.5)    011    (-0.5)    \n",
      "012 (-0.5/-1)    013      (-1)    014 (-1/-1.5)    015    (-1.5)    016 (-1.5/-2)    017      (-2)    \n",
      "018 (-2/-2.5)    019    (-2.5)    020 (-2.5/-3)    "
     ]
    }
   ],
   "source": [
    "i=0\n",
    "for k,v in ivd.items():\n",
    "    print(str(k).rjust(3, '0'), v.rjust(9,' '), end ='    ')\n",
    "    i+=1\n",
    "    if i % 6==0:\n",
    "        print()"
   ]
  },
  {
   "cell_type": "code",
   "execution_count": 41,
   "metadata": {
    "scrolled": false
   },
   "outputs": [
    {
     "name": "stdout",
     "output_type": "stream",
     "text": [
      "(-1) (-1.5)\n",
      "No record\n"
     ]
    }
   ],
   "source": [
    "\n",
    "f_line = ivd[13]\n",
    "l_line = ivd[15]\n",
    "df_check = df_found_init[(df_found_init.FIRST_LINE == f_line) & \n",
    "           (df_found_init.LAST_LINE == l_line) &\n",
    "           (df_found_init.H_PAT_FOUND =='Y')]\n",
    "last_num = 10\n",
    "print(f_line, l_line)\n",
    "if not df_check.empty:\n",
    "    print(\"Last 10:\")\n",
    "    print(df_check.groupby('ID').apply(lambda x: x.iloc[0]).iloc[-last_num:].groupby('HANDI_LABEL').size())\n",
    "    print(\"All : \")\n",
    "    print(df_check.groupby('ID').apply(lambda x: x.iloc[0]).iloc[:].groupby('HANDI_LABEL').size())\n",
    "else:\n",
    "    print(\"No record\")\n",
    "    #for i in df_check.ID.unique()[-10:]:\n",
    "    \n",
    "for i in sorted(df_check.ID.unique())[-last_num:]:    \n",
    "    print('http://www.hkjcodds.com/match_board/'+str(i), df_check[df_check.ID == i].iloc[0].HANDI_LABEL )"
   ]
  },
  {
   "cell_type": "code",
   "execution_count": 9,
   "metadata": {
    "scrolled": false
   },
   "outputs": [
    {
     "name": "stdout",
     "output_type": "stream",
     "text": [
      "(-0.5/-1) (-0.5/-1)\n",
      "Last 10:\n",
      "HANDI_LABEL\n",
      "A    6\n",
      "H    4\n",
      "dtype: int64\n",
      "All : \n",
      "HANDI_LABEL\n",
      "A    12\n",
      "H    12\n",
      "dtype: int64\n",
      "http://www.hkjcodds.com/match_board/111154 A\n",
      "http://www.hkjcodds.com/match_board/111628 A\n",
      "http://www.hkjcodds.com/match_board/111730 A\n",
      "http://www.hkjcodds.com/match_board/112027 H\n",
      "http://www.hkjcodds.com/match_board/112179 A\n",
      "http://www.hkjcodds.com/match_board/113914 A\n",
      "http://www.hkjcodds.com/match_board/114511 H\n",
      "http://www.hkjcodds.com/match_board/116339 H\n",
      "http://www.hkjcodds.com/match_board/117231 H\n",
      "http://www.hkjcodds.com/match_board/118327 A\n"
     ]
    }
   ],
   "source": [
    "\n",
    "f_line = ivd[12]\n",
    "l_line = ivd[12]\n",
    "df_check = df_found_init[(df_found_init.FIRST_LINE == f_line) & \n",
    "           (df_found_init.LAST_LINE == l_line) &\n",
    "           (df_found_init.A_PAT_FOUND =='Y')]\n",
    "last_num = 10\n",
    "print(f_line, l_line)\n",
    "if not df_check.empty:\n",
    "    print(\"Last 10:\")\n",
    "    print(df_check.groupby('ID').apply(lambda x: x.iloc[0]).iloc[-last_num:].groupby('HANDI_LABEL').size())\n",
    "    print(\"All : \")\n",
    "    print(df_check.groupby('ID').apply(lambda x: x.iloc[0]).iloc[:].groupby('HANDI_LABEL').size())\n",
    "else:\n",
    "    print(\"No record\")\n",
    "    #for i in df_check.ID.unique()[-10:]:\n",
    "    \n",
    "for i in sorted(df_check.ID.unique())[-last_num:]:    \n",
    "    print('http://www.hkjcodds.com/match_board/'+str(i), df_check[df_check.ID == i].iloc[0].HANDI_LABEL )"
   ]
  },
  {
   "cell_type": "code",
   "execution_count": 11,
   "metadata": {
    "collapsed": true
   },
   "outputs": [],
   "source": [
    "a = 2.1"
   ]
  },
  {
   "cell_type": "code",
   "execution_count": 12,
   "metadata": {},
   "outputs": [
    {
     "data": {
      "text/plain": [
       "(1.0, 1.7619047619047619, 1.2857142857142858)"
      ]
     },
     "execution_count": 12,
     "metadata": {},
     "output_type": "execute_result"
    }
   ],
   "source": [
    "2.1/a,3.7/a,2.7/a"
   ]
  },
  {
   "cell_type": "code",
   "execution_count": 13,
   "metadata": {
    "collapsed": true
   },
   "outputs": [],
   "source": [
    "a = 1.95"
   ]
  },
  {
   "cell_type": "code",
   "execution_count": 14,
   "metadata": {},
   "outputs": [
    {
     "data": {
      "text/plain": [
       "(1.0, 1.7435897435897436, 1.6153846153846154)"
      ]
     },
     "execution_count": 14,
     "metadata": {},
     "output_type": "execute_result"
    }
   ],
   "source": [
    "1.95/a , 3.4/a, 3.15/a"
   ]
  },
  {
   "cell_type": "code",
   "execution_count": 15,
   "metadata": {
    "collapsed": true
   },
   "outputs": [],
   "source": [
    "b = 1.9"
   ]
  },
  {
   "cell_type": "code",
   "execution_count": 16,
   "metadata": {},
   "outputs": [
    {
     "data": {
      "text/plain": [
       "(1.0, 1.8157894736842106, 1.7842105263157897)"
      ]
     },
     "execution_count": 16,
     "metadata": {},
     "output_type": "execute_result"
    }
   ],
   "source": [
    "1.9/b, 3.45/b, 3.39/b\n"
   ]
  },
  {
   "cell_type": "code",
   "execution_count": null,
   "metadata": {
    "collapsed": true
   },
   "outputs": [],
   "source": []
  }
 ],
 "metadata": {
  "anaconda-cloud": {},
  "kernelspec": {
   "display_name": "Python [Root]",
   "language": "python",
   "name": "Python [Root]"
  },
  "language_info": {
   "codemirror_mode": {
    "name": "ipython",
    "version": 3
   },
   "file_extension": ".py",
   "mimetype": "text/x-python",
   "name": "python",
   "nbconvert_exporter": "python",
   "pygments_lexer": "ipython3",
   "version": "3.5.2"
  }
 },
 "nbformat": 4,
 "nbformat_minor": 1
}
