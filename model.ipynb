{
 "cells": [
  {
   "cell_type": "code",
   "execution_count": 306,
   "metadata": {},
   "outputs": [
    {
     "name": "stdout",
     "output_type": "stream",
     "text": [
      "The autoreload extension is already loaded. To reload it, use:\n",
      "  %reload_ext autoreload\n"
     ]
    }
   ],
   "source": [
    "%load_ext autoreload\n",
    "%autoreload 2\n",
    "import blackhkjc as bh\n",
    "import pandas as pd\n",
    "import re\n",
    "df = pd.read_pickle('handi.pkl')\n",
    "df = df[df.HOME_TREND.apply(lambda x:len(x)) >=5]"
   ]
  },
  {
   "cell_type": "code",
   "execution_count": 307,
   "metadata": {},
   "outputs": [
    {
     "data": {
      "text/plain": [
       "64170"
      ]
     },
     "execution_count": 307,
     "metadata": {},
     "output_type": "execute_result"
    }
   ],
   "source": [
    "len(df)"
   ]
  },
  {
   "cell_type": "markdown",
   "metadata": {},
   "source": [
    "# Loop pattern 5,6,7,8"
   ]
  },
  {
   "cell_type": "code",
   "execution_count": 159,
   "metadata": {
    "collapsed": true
   },
   "outputs": [],
   "source": [
    "df_pat = df.copy()"
   ]
  },
  {
   "cell_type": "code",
   "execution_count": 160,
   "metadata": {},
   "outputs": [],
   "source": [
    "df_pat = df.copy()\n",
    "number_repeating_pattern = 5\n",
    "#pattern = r'0-{' + str(number_repeating_pattern) + r'}'\n",
    "pattern = r'0-----+$'\n",
    "df_pat['A_PAT_FOUND'] = df_pat.AWAY_TREND.apply(lambda x: 'Y' if re.findall(pattern,x) else 'N')\n",
    "df_pat['H_PAT_FOUND'] = df_pat.HOME_TREND.apply(lambda x: 'Y' if re.findall(pattern,x) else 'N')\n",
    "df_pat['PAT_FOUND'] = df_pat.apply(lambda rec: 'Y' if ((rec['A_PAT_FOUND'] =='Y') or (rec['H_PAT_FOUND']=='Y')) else 'N',axis=1)\n",
    "\n",
    "# Generate Summary\n",
    "df_summary = df_pat[df_pat['PAT_FOUND'] == 'Y']\n",
    "\n",
    "# Generate Summary\n",
    "df_found_init = df_summary.copy()\n",
    "#df_found_init"
   ]
  },
  {
   "cell_type": "code",
   "execution_count": 162,
   "metadata": {},
   "outputs": [
    {
     "name": "stdout",
     "output_type": "stream",
     "text": [
      "number_repeating_patterns: 5\n",
      "Index([], dtype='object')\n"
     ]
    },
    {
     "ename": "KeyError",
     "evalue": "'HANDI_LABEL'",
     "output_type": "error",
     "traceback": [
      "\u001b[0;31m---------------------------------------------------------------------------\u001b[0m",
      "\u001b[0;31mKeyError\u001b[0m                                  Traceback (most recent call last)",
      "\u001b[0;32m/Users/wunlung/anaconda/lib/python3.5/site-packages/pandas/indexes/base.py\u001b[0m in \u001b[0;36mget_loc\u001b[0;34m(self, key, method, tolerance)\u001b[0m\n\u001b[1;32m   1944\u001b[0m             \u001b[0;32mtry\u001b[0m\u001b[0;34m:\u001b[0m\u001b[0;34m\u001b[0m\u001b[0m\n\u001b[0;32m-> 1945\u001b[0;31m                 \u001b[0;32mreturn\u001b[0m \u001b[0mself\u001b[0m\u001b[0;34m.\u001b[0m\u001b[0m_engine\u001b[0m\u001b[0;34m.\u001b[0m\u001b[0mget_loc\u001b[0m\u001b[0;34m(\u001b[0m\u001b[0mkey\u001b[0m\u001b[0;34m)\u001b[0m\u001b[0;34m\u001b[0m\u001b[0m\n\u001b[0m\u001b[1;32m   1946\u001b[0m             \u001b[0;32mexcept\u001b[0m \u001b[0mKeyError\u001b[0m\u001b[0;34m:\u001b[0m\u001b[0;34m\u001b[0m\u001b[0m\n",
      "\u001b[0;32mpandas/index.pyx\u001b[0m in \u001b[0;36mpandas.index.IndexEngine.get_loc (pandas/index.c:4154)\u001b[0;34m()\u001b[0m\n",
      "\u001b[0;32mpandas/index.pyx\u001b[0m in \u001b[0;36mpandas.index.IndexEngine.get_loc (pandas/index.c:4018)\u001b[0;34m()\u001b[0m\n",
      "\u001b[0;32mpandas/hashtable.pyx\u001b[0m in \u001b[0;36mpandas.hashtable.PyObjectHashTable.get_item (pandas/hashtable.c:12368)\u001b[0;34m()\u001b[0m\n",
      "\u001b[0;32mpandas/hashtable.pyx\u001b[0m in \u001b[0;36mpandas.hashtable.PyObjectHashTable.get_item (pandas/hashtable.c:12322)\u001b[0;34m()\u001b[0m\n",
      "\u001b[0;31mKeyError\u001b[0m: 'HANDI_LABEL'",
      "\nDuring handling of the above exception, another exception occurred:\n",
      "\u001b[0;31mKeyError\u001b[0m                                  Traceback (most recent call last)",
      "\u001b[0;32m<ipython-input-162-b47173c95d87>\u001b[0m in \u001b[0;36m<module>\u001b[0;34m()\u001b[0m\n\u001b[1;32m     18\u001b[0m         \u001b[0mdf_10\u001b[0m \u001b[0;34m=\u001b[0m \u001b[0mdf_found\u001b[0m\u001b[0;34m[\u001b[0m\u001b[0;34m(\u001b[0m\u001b[0mdf_found\u001b[0m\u001b[0;34m.\u001b[0m\u001b[0mO_FIRST_LINE\u001b[0m \u001b[0;34m==\u001b[0m \u001b[0mv\u001b[0m\u001b[0;34m)\u001b[0m\u001b[0;34m]\u001b[0m\u001b[0;34m.\u001b[0m\u001b[0mgroupby\u001b[0m\u001b[0;34m(\u001b[0m\u001b[0;34m'ID'\u001b[0m\u001b[0;34m)\u001b[0m\u001b[0;34m.\u001b[0m\u001b[0mapply\u001b[0m\u001b[0;34m(\u001b[0m\u001b[0;32mlambda\u001b[0m \u001b[0mx\u001b[0m\u001b[0;34m:\u001b[0m\u001b[0mx\u001b[0m\u001b[0;34m.\u001b[0m\u001b[0miloc\u001b[0m\u001b[0;34m[\u001b[0m\u001b[0;36m0\u001b[0m\u001b[0;34m]\u001b[0m\u001b[0;34m)\u001b[0m\u001b[0;34m.\u001b[0m\u001b[0mreset_index\u001b[0m\u001b[0;34m(\u001b[0m\u001b[0mdrop\u001b[0m\u001b[0;34m=\u001b[0m\u001b[0;32mTrue\u001b[0m\u001b[0;34m)\u001b[0m\u001b[0;34m.\u001b[0m\u001b[0miloc\u001b[0m\u001b[0;34m[\u001b[0m\u001b[0;34m-\u001b[0m\u001b[0;36m10\u001b[0m\u001b[0;34m:\u001b[0m\u001b[0;34m]\u001b[0m\u001b[0;34m\u001b[0m\u001b[0m\n\u001b[1;32m     19\u001b[0m         \u001b[0mprint\u001b[0m\u001b[0;34m(\u001b[0m\u001b[0mdf_10\u001b[0m\u001b[0;34m.\u001b[0m\u001b[0mcolumns\u001b[0m\u001b[0;34m)\u001b[0m\u001b[0;34m\u001b[0m\u001b[0m\n\u001b[0;32m---> 20\u001b[0;31m         \u001b[0mdf_temp\u001b[0m \u001b[0;34m=\u001b[0m \u001b[0mdf_10\u001b[0m\u001b[0;34m.\u001b[0m\u001b[0mgroupby\u001b[0m\u001b[0;34m(\u001b[0m\u001b[0;34m[\u001b[0m\u001b[0;34m'HANDI_LABEL'\u001b[0m\u001b[0;34m,\u001b[0m\u001b[0;34m'H_PAT_FOUND'\u001b[0m\u001b[0;34m,\u001b[0m\u001b[0;34m'LAST_LINE'\u001b[0m\u001b[0;34m]\u001b[0m\u001b[0;34m)\u001b[0m\u001b[0;34m.\u001b[0m\u001b[0magg\u001b[0m\u001b[0;34m(\u001b[0m\u001b[0;34m{\u001b[0m\u001b[0;34m\"ID\"\u001b[0m\u001b[0;34m:\u001b[0m \u001b[0mpd\u001b[0m\u001b[0;34m.\u001b[0m\u001b[0mSeries\u001b[0m\u001b[0;34m.\u001b[0m\u001b[0mnunique\u001b[0m\u001b[0;34m}\u001b[0m\u001b[0;34m)\u001b[0m\u001b[0;34m.\u001b[0m\u001b[0mreset_index\u001b[0m\u001b[0;34m(\u001b[0m\u001b[0;34m)\u001b[0m\u001b[0;34m\u001b[0m\u001b[0m\n\u001b[0m\u001b[1;32m     21\u001b[0m \u001b[0;34m\u001b[0m\u001b[0m\n\u001b[1;32m     22\u001b[0m         \u001b[0maway_total\u001b[0m \u001b[0;34m=\u001b[0m \u001b[0mhome_total\u001b[0m \u001b[0;34m=\u001b[0m \u001b[0;36m0\u001b[0m\u001b[0;34m\u001b[0m\u001b[0m\n",
      "\u001b[0;32m/Users/wunlung/anaconda/lib/python3.5/site-packages/pandas/core/generic.py\u001b[0m in \u001b[0;36mgroupby\u001b[0;34m(self, by, axis, level, as_index, sort, group_keys, squeeze, **kwargs)\u001b[0m\n\u001b[1;32m   3776\u001b[0m         return groupby(self, by=by, axis=axis, level=level, as_index=as_index,\n\u001b[1;32m   3777\u001b[0m                        \u001b[0msort\u001b[0m\u001b[0;34m=\u001b[0m\u001b[0msort\u001b[0m\u001b[0;34m,\u001b[0m \u001b[0mgroup_keys\u001b[0m\u001b[0;34m=\u001b[0m\u001b[0mgroup_keys\u001b[0m\u001b[0;34m,\u001b[0m \u001b[0msqueeze\u001b[0m\u001b[0;34m=\u001b[0m\u001b[0msqueeze\u001b[0m\u001b[0;34m,\u001b[0m\u001b[0;34m\u001b[0m\u001b[0m\n\u001b[0;32m-> 3778\u001b[0;31m                        **kwargs)\n\u001b[0m\u001b[1;32m   3779\u001b[0m \u001b[0;34m\u001b[0m\u001b[0m\n\u001b[1;32m   3780\u001b[0m     \u001b[0;32mdef\u001b[0m \u001b[0masfreq\u001b[0m\u001b[0;34m(\u001b[0m\u001b[0mself\u001b[0m\u001b[0;34m,\u001b[0m \u001b[0mfreq\u001b[0m\u001b[0;34m,\u001b[0m \u001b[0mmethod\u001b[0m\u001b[0;34m=\u001b[0m\u001b[0;32mNone\u001b[0m\u001b[0;34m,\u001b[0m \u001b[0mhow\u001b[0m\u001b[0;34m=\u001b[0m\u001b[0;32mNone\u001b[0m\u001b[0;34m,\u001b[0m \u001b[0mnormalize\u001b[0m\u001b[0;34m=\u001b[0m\u001b[0;32mFalse\u001b[0m\u001b[0;34m)\u001b[0m\u001b[0;34m:\u001b[0m\u001b[0;34m\u001b[0m\u001b[0m\n",
      "\u001b[0;32m/Users/wunlung/anaconda/lib/python3.5/site-packages/pandas/core/groupby.py\u001b[0m in \u001b[0;36mgroupby\u001b[0;34m(obj, by, **kwds)\u001b[0m\n\u001b[1;32m   1425\u001b[0m         \u001b[0;32mraise\u001b[0m \u001b[0mTypeError\u001b[0m\u001b[0;34m(\u001b[0m\u001b[0;34m'invalid type: %s'\u001b[0m \u001b[0;34m%\u001b[0m \u001b[0mtype\u001b[0m\u001b[0;34m(\u001b[0m\u001b[0mobj\u001b[0m\u001b[0;34m)\u001b[0m\u001b[0;34m)\u001b[0m\u001b[0;34m\u001b[0m\u001b[0m\n\u001b[1;32m   1426\u001b[0m \u001b[0;34m\u001b[0m\u001b[0m\n\u001b[0;32m-> 1427\u001b[0;31m     \u001b[0;32mreturn\u001b[0m \u001b[0mklass\u001b[0m\u001b[0;34m(\u001b[0m\u001b[0mobj\u001b[0m\u001b[0;34m,\u001b[0m \u001b[0mby\u001b[0m\u001b[0;34m,\u001b[0m \u001b[0;34m**\u001b[0m\u001b[0mkwds\u001b[0m\u001b[0;34m)\u001b[0m\u001b[0;34m\u001b[0m\u001b[0m\n\u001b[0m\u001b[1;32m   1428\u001b[0m \u001b[0;34m\u001b[0m\u001b[0m\n\u001b[1;32m   1429\u001b[0m \u001b[0;34m\u001b[0m\u001b[0m\n",
      "\u001b[0;32m/Users/wunlung/anaconda/lib/python3.5/site-packages/pandas/core/groupby.py\u001b[0m in \u001b[0;36m__init__\u001b[0;34m(self, obj, keys, axis, level, grouper, exclusions, selection, as_index, sort, group_keys, squeeze, **kwargs)\u001b[0m\n\u001b[1;32m    352\u001b[0m                                                     \u001b[0mlevel\u001b[0m\u001b[0;34m=\u001b[0m\u001b[0mlevel\u001b[0m\u001b[0;34m,\u001b[0m\u001b[0;34m\u001b[0m\u001b[0m\n\u001b[1;32m    353\u001b[0m                                                     \u001b[0msort\u001b[0m\u001b[0;34m=\u001b[0m\u001b[0msort\u001b[0m\u001b[0;34m,\u001b[0m\u001b[0;34m\u001b[0m\u001b[0m\n\u001b[0;32m--> 354\u001b[0;31m                                                     mutated=self.mutated)\n\u001b[0m\u001b[1;32m    355\u001b[0m \u001b[0;34m\u001b[0m\u001b[0m\n\u001b[1;32m    356\u001b[0m         \u001b[0mself\u001b[0m\u001b[0;34m.\u001b[0m\u001b[0mobj\u001b[0m \u001b[0;34m=\u001b[0m \u001b[0mobj\u001b[0m\u001b[0;34m\u001b[0m\u001b[0m\n",
      "\u001b[0;32m/Users/wunlung/anaconda/lib/python3.5/site-packages/pandas/core/groupby.py\u001b[0m in \u001b[0;36m_get_grouper\u001b[0;34m(obj, key, axis, level, sort, mutated)\u001b[0m\n\u001b[1;32m   2381\u001b[0m \u001b[0;34m\u001b[0m\u001b[0m\n\u001b[1;32m   2382\u001b[0m         \u001b[0;32melif\u001b[0m \u001b[0mis_in_axis\u001b[0m\u001b[0;34m(\u001b[0m\u001b[0mgpr\u001b[0m\u001b[0;34m)\u001b[0m\u001b[0;34m:\u001b[0m  \u001b[0;31m# df.groupby('name')\u001b[0m\u001b[0;34m\u001b[0m\u001b[0m\n\u001b[0;32m-> 2383\u001b[0;31m             \u001b[0min_axis\u001b[0m\u001b[0;34m,\u001b[0m \u001b[0mname\u001b[0m\u001b[0;34m,\u001b[0m \u001b[0mgpr\u001b[0m \u001b[0;34m=\u001b[0m \u001b[0;32mTrue\u001b[0m\u001b[0;34m,\u001b[0m \u001b[0mgpr\u001b[0m\u001b[0;34m,\u001b[0m \u001b[0mobj\u001b[0m\u001b[0;34m[\u001b[0m\u001b[0mgpr\u001b[0m\u001b[0;34m]\u001b[0m\u001b[0;34m\u001b[0m\u001b[0m\n\u001b[0m\u001b[1;32m   2384\u001b[0m             \u001b[0mexclusions\u001b[0m\u001b[0;34m.\u001b[0m\u001b[0mappend\u001b[0m\u001b[0;34m(\u001b[0m\u001b[0mname\u001b[0m\u001b[0;34m)\u001b[0m\u001b[0;34m\u001b[0m\u001b[0m\n\u001b[1;32m   2385\u001b[0m \u001b[0;34m\u001b[0m\u001b[0m\n",
      "\u001b[0;32m/Users/wunlung/anaconda/lib/python3.5/site-packages/pandas/core/frame.py\u001b[0m in \u001b[0;36m__getitem__\u001b[0;34m(self, key)\u001b[0m\n\u001b[1;32m   1995\u001b[0m             \u001b[0;32mreturn\u001b[0m \u001b[0mself\u001b[0m\u001b[0;34m.\u001b[0m\u001b[0m_getitem_multilevel\u001b[0m\u001b[0;34m(\u001b[0m\u001b[0mkey\u001b[0m\u001b[0;34m)\u001b[0m\u001b[0;34m\u001b[0m\u001b[0m\n\u001b[1;32m   1996\u001b[0m         \u001b[0;32melse\u001b[0m\u001b[0;34m:\u001b[0m\u001b[0;34m\u001b[0m\u001b[0m\n\u001b[0;32m-> 1997\u001b[0;31m             \u001b[0;32mreturn\u001b[0m \u001b[0mself\u001b[0m\u001b[0;34m.\u001b[0m\u001b[0m_getitem_column\u001b[0m\u001b[0;34m(\u001b[0m\u001b[0mkey\u001b[0m\u001b[0;34m)\u001b[0m\u001b[0;34m\u001b[0m\u001b[0m\n\u001b[0m\u001b[1;32m   1998\u001b[0m \u001b[0;34m\u001b[0m\u001b[0m\n\u001b[1;32m   1999\u001b[0m     \u001b[0;32mdef\u001b[0m \u001b[0m_getitem_column\u001b[0m\u001b[0;34m(\u001b[0m\u001b[0mself\u001b[0m\u001b[0;34m,\u001b[0m \u001b[0mkey\u001b[0m\u001b[0;34m)\u001b[0m\u001b[0;34m:\u001b[0m\u001b[0;34m\u001b[0m\u001b[0m\n",
      "\u001b[0;32m/Users/wunlung/anaconda/lib/python3.5/site-packages/pandas/core/frame.py\u001b[0m in \u001b[0;36m_getitem_column\u001b[0;34m(self, key)\u001b[0m\n\u001b[1;32m   2002\u001b[0m         \u001b[0;31m# get column\u001b[0m\u001b[0;34m\u001b[0m\u001b[0;34m\u001b[0m\u001b[0m\n\u001b[1;32m   2003\u001b[0m         \u001b[0;32mif\u001b[0m \u001b[0mself\u001b[0m\u001b[0;34m.\u001b[0m\u001b[0mcolumns\u001b[0m\u001b[0;34m.\u001b[0m\u001b[0mis_unique\u001b[0m\u001b[0;34m:\u001b[0m\u001b[0;34m\u001b[0m\u001b[0m\n\u001b[0;32m-> 2004\u001b[0;31m             \u001b[0;32mreturn\u001b[0m \u001b[0mself\u001b[0m\u001b[0;34m.\u001b[0m\u001b[0m_get_item_cache\u001b[0m\u001b[0;34m(\u001b[0m\u001b[0mkey\u001b[0m\u001b[0;34m)\u001b[0m\u001b[0;34m\u001b[0m\u001b[0m\n\u001b[0m\u001b[1;32m   2005\u001b[0m \u001b[0;34m\u001b[0m\u001b[0m\n\u001b[1;32m   2006\u001b[0m         \u001b[0;31m# duplicate columns & possible reduce dimensionality\u001b[0m\u001b[0;34m\u001b[0m\u001b[0;34m\u001b[0m\u001b[0m\n",
      "\u001b[0;32m/Users/wunlung/anaconda/lib/python3.5/site-packages/pandas/core/generic.py\u001b[0m in \u001b[0;36m_get_item_cache\u001b[0;34m(self, item)\u001b[0m\n\u001b[1;32m   1348\u001b[0m         \u001b[0mres\u001b[0m \u001b[0;34m=\u001b[0m \u001b[0mcache\u001b[0m\u001b[0;34m.\u001b[0m\u001b[0mget\u001b[0m\u001b[0;34m(\u001b[0m\u001b[0mitem\u001b[0m\u001b[0;34m)\u001b[0m\u001b[0;34m\u001b[0m\u001b[0m\n\u001b[1;32m   1349\u001b[0m         \u001b[0;32mif\u001b[0m \u001b[0mres\u001b[0m \u001b[0;32mis\u001b[0m \u001b[0;32mNone\u001b[0m\u001b[0;34m:\u001b[0m\u001b[0;34m\u001b[0m\u001b[0m\n\u001b[0;32m-> 1350\u001b[0;31m             \u001b[0mvalues\u001b[0m \u001b[0;34m=\u001b[0m \u001b[0mself\u001b[0m\u001b[0;34m.\u001b[0m\u001b[0m_data\u001b[0m\u001b[0;34m.\u001b[0m\u001b[0mget\u001b[0m\u001b[0;34m(\u001b[0m\u001b[0mitem\u001b[0m\u001b[0;34m)\u001b[0m\u001b[0;34m\u001b[0m\u001b[0m\n\u001b[0m\u001b[1;32m   1351\u001b[0m             \u001b[0mres\u001b[0m \u001b[0;34m=\u001b[0m \u001b[0mself\u001b[0m\u001b[0;34m.\u001b[0m\u001b[0m_box_item_values\u001b[0m\u001b[0;34m(\u001b[0m\u001b[0mitem\u001b[0m\u001b[0;34m,\u001b[0m \u001b[0mvalues\u001b[0m\u001b[0;34m)\u001b[0m\u001b[0;34m\u001b[0m\u001b[0m\n\u001b[1;32m   1352\u001b[0m             \u001b[0mcache\u001b[0m\u001b[0;34m[\u001b[0m\u001b[0mitem\u001b[0m\u001b[0;34m]\u001b[0m \u001b[0;34m=\u001b[0m \u001b[0mres\u001b[0m\u001b[0;34m\u001b[0m\u001b[0m\n",
      "\u001b[0;32m/Users/wunlung/anaconda/lib/python3.5/site-packages/pandas/core/internals.py\u001b[0m in \u001b[0;36mget\u001b[0;34m(self, item, fastpath)\u001b[0m\n\u001b[1;32m   3288\u001b[0m \u001b[0;34m\u001b[0m\u001b[0m\n\u001b[1;32m   3289\u001b[0m             \u001b[0;32mif\u001b[0m \u001b[0;32mnot\u001b[0m \u001b[0misnull\u001b[0m\u001b[0;34m(\u001b[0m\u001b[0mitem\u001b[0m\u001b[0;34m)\u001b[0m\u001b[0;34m:\u001b[0m\u001b[0;34m\u001b[0m\u001b[0m\n\u001b[0;32m-> 3290\u001b[0;31m                 \u001b[0mloc\u001b[0m \u001b[0;34m=\u001b[0m \u001b[0mself\u001b[0m\u001b[0;34m.\u001b[0m\u001b[0mitems\u001b[0m\u001b[0;34m.\u001b[0m\u001b[0mget_loc\u001b[0m\u001b[0;34m(\u001b[0m\u001b[0mitem\u001b[0m\u001b[0;34m)\u001b[0m\u001b[0;34m\u001b[0m\u001b[0m\n\u001b[0m\u001b[1;32m   3291\u001b[0m             \u001b[0;32melse\u001b[0m\u001b[0;34m:\u001b[0m\u001b[0;34m\u001b[0m\u001b[0m\n\u001b[1;32m   3292\u001b[0m                 \u001b[0mindexer\u001b[0m \u001b[0;34m=\u001b[0m \u001b[0mnp\u001b[0m\u001b[0;34m.\u001b[0m\u001b[0marange\u001b[0m\u001b[0;34m(\u001b[0m\u001b[0mlen\u001b[0m\u001b[0;34m(\u001b[0m\u001b[0mself\u001b[0m\u001b[0;34m.\u001b[0m\u001b[0mitems\u001b[0m\u001b[0;34m)\u001b[0m\u001b[0;34m)\u001b[0m\u001b[0;34m[\u001b[0m\u001b[0misnull\u001b[0m\u001b[0;34m(\u001b[0m\u001b[0mself\u001b[0m\u001b[0;34m.\u001b[0m\u001b[0mitems\u001b[0m\u001b[0;34m)\u001b[0m\u001b[0;34m]\u001b[0m\u001b[0;34m\u001b[0m\u001b[0m\n",
      "\u001b[0;32m/Users/wunlung/anaconda/lib/python3.5/site-packages/pandas/indexes/base.py\u001b[0m in \u001b[0;36mget_loc\u001b[0;34m(self, key, method, tolerance)\u001b[0m\n\u001b[1;32m   1945\u001b[0m                 \u001b[0;32mreturn\u001b[0m \u001b[0mself\u001b[0m\u001b[0;34m.\u001b[0m\u001b[0m_engine\u001b[0m\u001b[0;34m.\u001b[0m\u001b[0mget_loc\u001b[0m\u001b[0;34m(\u001b[0m\u001b[0mkey\u001b[0m\u001b[0;34m)\u001b[0m\u001b[0;34m\u001b[0m\u001b[0m\n\u001b[1;32m   1946\u001b[0m             \u001b[0;32mexcept\u001b[0m \u001b[0mKeyError\u001b[0m\u001b[0;34m:\u001b[0m\u001b[0;34m\u001b[0m\u001b[0m\n\u001b[0;32m-> 1947\u001b[0;31m                 \u001b[0;32mreturn\u001b[0m \u001b[0mself\u001b[0m\u001b[0;34m.\u001b[0m\u001b[0m_engine\u001b[0m\u001b[0;34m.\u001b[0m\u001b[0mget_loc\u001b[0m\u001b[0;34m(\u001b[0m\u001b[0mself\u001b[0m\u001b[0;34m.\u001b[0m\u001b[0m_maybe_cast_indexer\u001b[0m\u001b[0;34m(\u001b[0m\u001b[0mkey\u001b[0m\u001b[0;34m)\u001b[0m\u001b[0;34m)\u001b[0m\u001b[0;34m\u001b[0m\u001b[0m\n\u001b[0m\u001b[1;32m   1948\u001b[0m \u001b[0;34m\u001b[0m\u001b[0m\n\u001b[1;32m   1949\u001b[0m         \u001b[0mindexer\u001b[0m \u001b[0;34m=\u001b[0m \u001b[0mself\u001b[0m\u001b[0;34m.\u001b[0m\u001b[0mget_indexer\u001b[0m\u001b[0;34m(\u001b[0m\u001b[0;34m[\u001b[0m\u001b[0mkey\u001b[0m\u001b[0;34m]\u001b[0m\u001b[0;34m,\u001b[0m \u001b[0mmethod\u001b[0m\u001b[0;34m=\u001b[0m\u001b[0mmethod\u001b[0m\u001b[0;34m,\u001b[0m \u001b[0mtolerance\u001b[0m\u001b[0;34m=\u001b[0m\u001b[0mtolerance\u001b[0m\u001b[0;34m)\u001b[0m\u001b[0;34m\u001b[0m\u001b[0m\n",
      "\u001b[0;32mpandas/index.pyx\u001b[0m in \u001b[0;36mpandas.index.IndexEngine.get_loc (pandas/index.c:4154)\u001b[0;34m()\u001b[0m\n",
      "\u001b[0;32mpandas/index.pyx\u001b[0m in \u001b[0;36mpandas.index.IndexEngine.get_loc (pandas/index.c:4018)\u001b[0;34m()\u001b[0m\n",
      "\u001b[0;32mpandas/hashtable.pyx\u001b[0m in \u001b[0;36mpandas.hashtable.PyObjectHashTable.get_item (pandas/hashtable.c:12368)\u001b[0;34m()\u001b[0m\n",
      "\u001b[0;32mpandas/hashtable.pyx\u001b[0m in \u001b[0;36mpandas.hashtable.PyObjectHashTable.get_item (pandas/hashtable.c:12322)\u001b[0;34m()\u001b[0m\n",
      "\u001b[0;31mKeyError\u001b[0m: 'HANDI_LABEL'"
     ]
    }
   ],
   "source": [
    "summary_array = []\n",
    "\n",
    "for number_repeating_patterns in [5,6,7,8]:\n",
    "    df_summary = df_found_init.copy()\n",
    "    pattern = r'0-{' + str(number_repeating_patterns) + r'}'\n",
    "    df_summary['A_PAT_FOUND'] = df_summary.AWAY_TREND.apply(lambda x: 'Y' if re.findall(pattern,x) else 'N')\n",
    "    df_summary['H_PAT_FOUND'] = df_summary.HOME_TREND.apply(lambda x: 'Y' if re.findall(pattern,x) else 'N')\n",
    "    df_summary['PAT_FOUND'] = df_summary.apply(lambda rec: 'Y' if ((rec['A_PAT_FOUND'] =='Y') or (rec['H_PAT_FOUND']=='Y')) else 'N',axis=1)\n",
    "\n",
    "    # Generate Summary\n",
    "    df_found = df_summary[df_summary['PAT_FOUND'] == 'Y']\n",
    "\n",
    "    print('number_repeating_patterns:', number_repeating_patterns)\n",
    "\n",
    "    for k,v in sorted(bh.line_mapping.items(),key=lambda x:x[1]):\n",
    "        #df_temp = df_found[(df_found.O_FIRST_LINE == v)].groupby(['HANDI_LABEL','H_PAT_FOUND','LAST_LINE']).agg({\"ID\": pd.Series.nunique}).reset_index()\n",
    "        # Use last 10\n",
    "        df_10 = df_found[(df_found.O_FIRST_LINE == v)].groupby('ID').apply(lambda x:x.iloc[0]).reset_index(drop=True).iloc[-10:]\n",
    "        print(df_10.columns)\n",
    "        df_temp = df_10.groupby(['HANDI_LABEL','H_PAT_FOUND','LAST_LINE']).agg({\"ID\": pd.Series.nunique}).reset_index()\n",
    "        \n",
    "        away_total = home_total = 0\n",
    "        if df_temp.empty:\n",
    "            home_sample = home_win_ratio = away_sample = away_win_ratio = 0\n",
    "        else:\n",
    "            LAST_LINE_LIST = df_temp.LAST_LINE.unique()\n",
    "            for v_last_line in LAST_LINE_LIST:\n",
    "                df_N = df_temp[(df_temp['H_PAT_FOUND'] == 'N') & (df_temp['HANDI_LABEL'] != 'D')&\n",
    "                          (df_temp['LAST_LINE'] == v_last_line )]\n",
    "                away_total = df_N.ID.sum()\n",
    "                away_win_ratio, away_sample = bh.get_win_ratio_sample(df_N, venue='A')\n",
    "                \n",
    "                df_Y = df_temp[(df_temp['H_PAT_FOUND'] == 'Y') & (df_temp['HANDI_LABEL'] != 'D')&\n",
    "                          (df_temp['LAST_LINE'] == v_last_line )]\n",
    "                home_total = df_Y.ID.sum()\n",
    "                home_win_ratio, home_sample = bh.get_win_ratio_sample(df_Y, venue='H')\n",
    "\n",
    "                home_suggest_hands, away_suggest_hands = bh.home_away_suggest(home_win_ratio,away_win_ratio)\n",
    "        \n",
    "                summary_array.append(\n",
    "                    (number_repeating_patterns,\n",
    "                     v,\n",
    "                     k,\n",
    "                     v_last_line,\n",
    "                     home_win_ratio,\n",
    "                     home_sample,\n",
    "                     home_total,\n",
    "                     away_win_ratio,\n",
    "                     away_sample,\n",
    "                     away_total,\n",
    "                     home_suggest_hands,\n",
    "                     away_suggest_hands\n",
    "                    )\n",
    "                )"
   ]
  },
  {
   "cell_type": "code",
   "execution_count": 136,
   "metadata": {
    "collapsed": true
   },
   "outputs": [],
   "source": [
    "df_sum = pd.DataFrame(summary_array)"
   ]
  },
  {
   "cell_type": "code",
   "execution_count": 137,
   "metadata": {
    "collapsed": true
   },
   "outputs": [],
   "source": [
    "df_sum.columns = ['NO_REPEAT_PATTERN', 'F_LINE_ID','F_LINE','L_LINE',\n",
    "                  'HOME_WIN_RATIO','HOME_SAMPLE',\n",
    "                 'HOME_TOTAL','AWAY_WIN_RATIO','AWAY_SAMPLE','AWAY_TOTAL','HOME_SUGG', 'AWAY_SUGG'\n",
    "                 ]"
   ]
  },
  {
   "cell_type": "code",
   "execution_count": 138,
   "metadata": {
    "collapsed": true
   },
   "outputs": [],
   "source": [
    "df_sum2 = df_sum[['F_LINE_ID','F_LINE','L_LINE','NO_REPEAT_PATTERN','HOME_WIN_RATIO',\n",
    "                  'AWAY_WIN_RATIO','HOME_SAMPLE',\n",
    "                 'AWAY_SAMPLE'\n",
    "                 ]]"
   ]
  },
  {
   "cell_type": "code",
   "execution_count": 139,
   "metadata": {
    "collapsed": true
   },
   "outputs": [],
   "source": [
    "table = pd.pivot_table(df_sum2, index=['F_LINE_ID','F_LINE','L_LINE'], columns='NO_REPEAT_PATTERN', \n",
    "                       values=['HOME_WIN_RATIO','AWAY_WIN_RATIO','HOME_SAMPLE','AWAY_SAMPLE'],fill_value=0)"
   ]
  },
  {
   "cell_type": "code",
   "execution_count": 140,
   "metadata": {
    "collapsed": true
   },
   "outputs": [],
   "source": [
    "table.reset_index(col_level=1).to_csv('output.csv',index=False)"
   ]
  },
  {
   "cell_type": "code",
   "execution_count": null,
   "metadata": {
    "collapsed": true
   },
   "outputs": [],
   "source": []
  },
  {
   "cell_type": "code",
   "execution_count": 377,
   "metadata": {
    "scrolled": false
   },
   "outputs": [
    {
     "data": {
      "text/html": [
       "<div>\n",
       "<table border=\"1\" class=\"dataframe\">\n",
       "  <thead>\n",
       "    <tr style=\"text-align: right;\">\n",
       "      <th></th>\n",
       "      <th>NO_REPEAT_PATTERN</th>\n",
       "      <th>F_LINE_ID</th>\n",
       "      <th>F_LINE</th>\n",
       "      <th>L_LINE</th>\n",
       "      <th>HOME_WIN_RATIO</th>\n",
       "      <th>HOME_SAMPLE</th>\n",
       "      <th>HOME_TOTAL</th>\n",
       "      <th>AWAY_WIN_RATIO</th>\n",
       "      <th>AWAY_SAMPLE</th>\n",
       "      <th>AWAY_TOTAL</th>\n",
       "      <th>HOME_SUGG</th>\n",
       "      <th>AWAY_SUGG</th>\n",
       "    </tr>\n",
       "  </thead>\n",
       "  <tbody>\n",
       "    <tr>\n",
       "      <th>0</th>\n",
       "      <td>5</td>\n",
       "      <td>0</td>\n",
       "      <td>(+2/+2.5)</td>\n",
       "      <td>(+2)</td>\n",
       "      <td>0.0</td>\n",
       "      <td>0</td>\n",
       "      <td>1</td>\n",
       "      <td>0.0</td>\n",
       "      <td>0</td>\n",
       "      <td>0</td>\n",
       "      <td></td>\n",
       "      <td></td>\n",
       "    </tr>\n",
       "    <tr>\n",
       "      <th>1</th>\n",
       "      <td>5</td>\n",
       "      <td>1</td>\n",
       "      <td>(+2)</td>\n",
       "      <td>(+2/+2.5)</td>\n",
       "      <td>0.0</td>\n",
       "      <td>0</td>\n",
       "      <td>0</td>\n",
       "      <td>0.0</td>\n",
       "      <td>0</td>\n",
       "      <td>1</td>\n",
       "      <td></td>\n",
       "      <td></td>\n",
       "    </tr>\n",
       "    <tr>\n",
       "      <th>2</th>\n",
       "      <td>5</td>\n",
       "      <td>1</td>\n",
       "      <td>(+2)</td>\n",
       "      <td>(+2)</td>\n",
       "      <td>1.0</td>\n",
       "      <td>1</td>\n",
       "      <td>1</td>\n",
       "      <td>0.0</td>\n",
       "      <td>0</td>\n",
       "      <td>0</td>\n",
       "      <td>HOME, 4 hands</td>\n",
       "      <td></td>\n",
       "    </tr>\n",
       "    <tr>\n",
       "      <th>3</th>\n",
       "      <td>5</td>\n",
       "      <td>2</td>\n",
       "      <td>(+1.5/+2)</td>\n",
       "      <td>(+1.5/+2)</td>\n",
       "      <td>0.0</td>\n",
       "      <td>0</td>\n",
       "      <td>2</td>\n",
       "      <td>0.5</td>\n",
       "      <td>1</td>\n",
       "      <td>2</td>\n",
       "      <td></td>\n",
       "      <td></td>\n",
       "    </tr>\n",
       "    <tr>\n",
       "      <th>4</th>\n",
       "      <td>5</td>\n",
       "      <td>2</td>\n",
       "      <td>(+1.5/+2)</td>\n",
       "      <td>(+1/+1.5)</td>\n",
       "      <td>0.0</td>\n",
       "      <td>0</td>\n",
       "      <td>2</td>\n",
       "      <td>0.0</td>\n",
       "      <td>0</td>\n",
       "      <td>0</td>\n",
       "      <td></td>\n",
       "      <td></td>\n",
       "    </tr>\n",
       "  </tbody>\n",
       "</table>\n",
       "</div>"
      ],
      "text/plain": [
       "   NO_REPEAT_PATTERN  F_LINE_ID     F_LINE     L_LINE  HOME_WIN_RATIO  \\\n",
       "0                  5          0  (+2/+2.5)       (+2)             0.0   \n",
       "1                  5          1       (+2)  (+2/+2.5)             0.0   \n",
       "2                  5          1       (+2)       (+2)             1.0   \n",
       "3                  5          2  (+1.5/+2)  (+1.5/+2)             0.0   \n",
       "4                  5          2  (+1.5/+2)  (+1/+1.5)             0.0   \n",
       "\n",
       "   HOME_SAMPLE  HOME_TOTAL  AWAY_WIN_RATIO  AWAY_SAMPLE  AWAY_TOTAL  \\\n",
       "0            0           1             0.0            0           0   \n",
       "1            0           0             0.0            0           1   \n",
       "2            1           1             0.0            0           0   \n",
       "3            0           2             0.5            1           2   \n",
       "4            0           2             0.0            0           0   \n",
       "\n",
       "       HOME_SUGG AWAY_SUGG  \n",
       "0                           \n",
       "1                           \n",
       "2  HOME, 4 hands            \n",
       "3                           \n",
       "4                           "
      ]
     },
     "execution_count": 377,
     "metadata": {},
     "output_type": "execute_result"
    }
   ],
   "source": [
    "df_sum.head()"
   ]
  },
  {
   "cell_type": "code",
   "execution_count": 173,
   "metadata": {
    "collapsed": true
   },
   "outputs": [],
   "source": [
    "df_sum = pd.DataFrame(summary_array)"
   ]
  },
  {
   "cell_type": "code",
   "execution_count": 174,
   "metadata": {
    "collapsed": true
   },
   "outputs": [],
   "source": [
    "df_sum.columns = ['NO_REPEAT_PATTERN', 'LINE_ID','LINE','HOME_WIN_RATIO','HOME_SAMPLE',\n",
    "                 'HOME_TOTAL','AWAY_WIN_RATIO','AWAY_SAMPLE','AWAY_TOTAL','HOME_SUGG', 'AWAY_SUGG'\n",
    "                 ]"
   ]
  },
  {
   "cell_type": "code",
   "execution_count": 287,
   "metadata": {},
   "outputs": [
    {
     "data": {
      "text/html": [
       "<div>\n",
       "<table border=\"1\" class=\"dataframe\">\n",
       "  <thead>\n",
       "    <tr style=\"text-align: right;\">\n",
       "      <th></th>\n",
       "      <th>NO_REPEAT_PATTERN</th>\n",
       "      <th>F_LINE_ID</th>\n",
       "      <th>F_LINE</th>\n",
       "      <th>L_LINE</th>\n",
       "      <th>HOME_WIN_RATIO</th>\n",
       "      <th>HOME_SAMPLE</th>\n",
       "      <th>HOME_TOTAL</th>\n",
       "      <th>AWAY_WIN_RATIO</th>\n",
       "      <th>AWAY_SAMPLE</th>\n",
       "      <th>AWAY_TOTAL</th>\n",
       "      <th>HOME_SUGG</th>\n",
       "      <th>AWAY_SUGG</th>\n",
       "    </tr>\n",
       "  </thead>\n",
       "  <tbody>\n",
       "    <tr>\n",
       "      <th>0</th>\n",
       "      <td>5</td>\n",
       "      <td>0</td>\n",
       "      <td>(+2/+2.5)</td>\n",
       "      <td>(+2)</td>\n",
       "      <td>0.0</td>\n",
       "      <td>0</td>\n",
       "      <td>1</td>\n",
       "      <td>0.0</td>\n",
       "      <td>0</td>\n",
       "      <td>0</td>\n",
       "      <td></td>\n",
       "      <td></td>\n",
       "    </tr>\n",
       "    <tr>\n",
       "      <th>1</th>\n",
       "      <td>5</td>\n",
       "      <td>1</td>\n",
       "      <td>(+2)</td>\n",
       "      <td>(+2/+2.5)</td>\n",
       "      <td>0.0</td>\n",
       "      <td>0</td>\n",
       "      <td>0</td>\n",
       "      <td>0.0</td>\n",
       "      <td>0</td>\n",
       "      <td>1</td>\n",
       "      <td></td>\n",
       "      <td></td>\n",
       "    </tr>\n",
       "    <tr>\n",
       "      <th>2</th>\n",
       "      <td>5</td>\n",
       "      <td>1</td>\n",
       "      <td>(+2)</td>\n",
       "      <td>(+2)</td>\n",
       "      <td>1.0</td>\n",
       "      <td>1</td>\n",
       "      <td>1</td>\n",
       "      <td>0.0</td>\n",
       "      <td>0</td>\n",
       "      <td>0</td>\n",
       "      <td>HOME, 4 hands</td>\n",
       "      <td></td>\n",
       "    </tr>\n",
       "    <tr>\n",
       "      <th>3</th>\n",
       "      <td>5</td>\n",
       "      <td>2</td>\n",
       "      <td>(+1.5/+2)</td>\n",
       "      <td>(+1.5/+2)</td>\n",
       "      <td>0.0</td>\n",
       "      <td>0</td>\n",
       "      <td>2</td>\n",
       "      <td>0.5</td>\n",
       "      <td>1</td>\n",
       "      <td>2</td>\n",
       "      <td></td>\n",
       "      <td></td>\n",
       "    </tr>\n",
       "    <tr>\n",
       "      <th>4</th>\n",
       "      <td>5</td>\n",
       "      <td>2</td>\n",
       "      <td>(+1.5/+2)</td>\n",
       "      <td>(+1/+1.5)</td>\n",
       "      <td>0.0</td>\n",
       "      <td>0</td>\n",
       "      <td>2</td>\n",
       "      <td>0.0</td>\n",
       "      <td>0</td>\n",
       "      <td>0</td>\n",
       "      <td></td>\n",
       "      <td></td>\n",
       "    </tr>\n",
       "  </tbody>\n",
       "</table>\n",
       "</div>"
      ],
      "text/plain": [
       "   NO_REPEAT_PATTERN  F_LINE_ID     F_LINE     L_LINE  HOME_WIN_RATIO  \\\n",
       "0                  5          0  (+2/+2.5)       (+2)             0.0   \n",
       "1                  5          1       (+2)  (+2/+2.5)             0.0   \n",
       "2                  5          1       (+2)       (+2)             1.0   \n",
       "3                  5          2  (+1.5/+2)  (+1.5/+2)             0.0   \n",
       "4                  5          2  (+1.5/+2)  (+1/+1.5)             0.0   \n",
       "\n",
       "   HOME_SAMPLE  HOME_TOTAL  AWAY_WIN_RATIO  AWAY_SAMPLE  AWAY_TOTAL  \\\n",
       "0            0           1             0.0            0           0   \n",
       "1            0           0             0.0            0           1   \n",
       "2            1           1             0.0            0           0   \n",
       "3            0           2             0.5            1           2   \n",
       "4            0           2             0.0            0           0   \n",
       "\n",
       "       HOME_SUGG AWAY_SUGG  \n",
       "0                           \n",
       "1                           \n",
       "2  HOME, 4 hands            \n",
       "3                           \n",
       "4                           "
      ]
     },
     "execution_count": 287,
     "metadata": {},
     "output_type": "execute_result"
    }
   ],
   "source": [
    "df_sum.head()"
   ]
  },
  {
   "cell_type": "code",
   "execution_count": 354,
   "metadata": {
    "collapsed": true
   },
   "outputs": [],
   "source": [
    "df_sum2 = df_sum[['F_LINE_ID','F_LINE','L_LINE','NO_REPEAT_PATTERN','HOME_WIN_RATIO',\n",
    "                  'AWAY_WIN_RATIO','HOME_SAMPLE',\n",
    "                 'AWAY_SAMPLE'\n",
    "                 ]]"
   ]
  },
  {
   "cell_type": "code",
   "execution_count": 355,
   "metadata": {
    "collapsed": true
   },
   "outputs": [],
   "source": [
    "table = pd.pivot_table(df_sum2, index=['F_LINE_ID','F_LINE','L_LINE'], columns='NO_REPEAT_PATTERN', \n",
    "                       values=['HOME_WIN_RATIO','AWAY_WIN_RATIO','HOME_SAMPLE','AWAY_SAMPLE'],fill_value=0)"
   ]
  },
  {
   "cell_type": "code",
   "execution_count": 356,
   "metadata": {
    "collapsed": true
   },
   "outputs": [],
   "source": [
    "table.reset_index(col_level=1).to_csv('output.csv',index=False)"
   ]
  },
  {
   "cell_type": "markdown",
   "metadata": {},
   "source": [
    "# Sample Check"
   ]
  },
  {
   "cell_type": "code",
   "execution_count": 291,
   "metadata": {},
   "outputs": [],
   "source": [
    "df_pat = df.copy()\n",
    "#number_repeating_pattern = 5\n",
    "#pattern = r'0-{' + str(number_repeating_pattern) + r'}'\n",
    "pattern = r'0-{5,}$'\n",
    "df_pat['A_PAT_FOUND'] = df_pat.AWAY_TREND.apply(lambda x: 'Y' if re.findall(pattern,x) else 'N')\n",
    "df_pat['H_PAT_FOUND'] = df_pat.HOME_TREND.apply(lambda x: 'Y' if re.findall(pattern,x) else 'N')\n",
    "df_pat['PAT_FOUND'] = df_pat.apply(lambda rec: 'Y' if ((rec['A_PAT_FOUND'] =='Y') or (rec['H_PAT_FOUND']=='Y')) else 'N',axis=1)\n",
    "\n",
    "# Generate Summary\n",
    "df_summary = df_pat[df_pat['PAT_FOUND'] == 'Y']\n",
    "\n",
    "# Generate Summary\n",
    "df_found_init = df_summary.copy()\n",
    "#df_found_init"
   ]
  },
  {
   "cell_type": "code",
   "execution_count": 298,
   "metadata": {
    "collapsed": true
   },
   "outputs": [],
   "source": [
    "ivd = {v: k for k, v in bh.line_mapping.items()}"
   ]
  },
  {
   "cell_type": "code",
   "execution_count": 300,
   "metadata": {},
   "outputs": [
    {
     "name": "stdout",
     "output_type": "stream",
     "text": [
      "{0: '(+2/+2.5)', 1: '(+2)', 2: '(+1.5/+2)', 3: '(+1.5)', 4: '(+1/+1.5)', 5: '(+1)', 6: '(+0.5/+1)', 7: '(+0.5)', 8: '(0/+0.5)', 9: '(0)', 10: '(0/-0.5)', 11: '(-0.5)', 12: '(-0.5/-1)', 13: '(-1)', 14: '(-1/-1.5)', 15: '(-1.5)', 16: '(-1.5/-2)', 17: '(-2)', 18: '(-2/-2.5)', 19: '(-2.5)', 20: '(-2.5/-3)'}\n"
     ]
    }
   ],
   "source": [
    "print(ivd,)\n"
   ]
  },
  {
   "cell_type": "code",
   "execution_count": 296,
   "metadata": {},
   "outputs": [
    {
     "data": {
      "text/plain": [
       "0.5675675675675675"
      ]
     },
     "execution_count": 296,
     "metadata": {},
     "output_type": "execute_result"
    }
   ],
   "source": [
    "84/(84+64)"
   ]
  },
  {
   "cell_type": "code",
   "execution_count": 303,
   "metadata": {},
   "outputs": [
    {
     "data": {
      "text/plain": [
       "'(-1)'"
      ]
     },
     "execution_count": 303,
     "metadata": {},
     "output_type": "execute_result"
    }
   ],
   "source": [
    "line = ivd[13]\n",
    "line"
   ]
  },
  {
   "cell_type": "code",
   "execution_count": 305,
   "metadata": {
    "scrolled": true
   },
   "outputs": [
    {
     "name": "stdout",
     "output_type": "stream",
     "text": [
      "HANDI_LABEL\n",
      "A    2\n",
      "D    5\n",
      "H    3\n",
      "dtype: int64\n",
      "http://www.hkjcodds.com/match_board/112318 H\n",
      "http://www.hkjcodds.com/match_board/112824 H\n",
      "http://www.hkjcodds.com/match_board/113589 D\n",
      "http://www.hkjcodds.com/match_board/113605 A\n",
      "http://www.hkjcodds.com/match_board/113623 D\n",
      "http://www.hkjcodds.com/match_board/113838 A\n",
      "http://www.hkjcodds.com/match_board/114595 D\n",
      "http://www.hkjcodds.com/match_board/115345 D\n",
      "http://www.hkjcodds.com/match_board/116283 D\n",
      "http://www.hkjcodds.com/match_board/116351 H\n"
     ]
    }
   ],
   "source": [
    "df_check = df_found_init[(df_found_init.FIRST_LINE == line) & \n",
    "           (df_found_init.LAST_LINE == line) &\n",
    "           (df_found_init.H_PAT_FOUND =='Y')]\n",
    "last_num = 10\n",
    "if not df_check.empty:\n",
    "    print(df_check.groupby('ID').apply(lambda x: x.iloc[0]).iloc[-last_num:].groupby('HANDI_LABEL').size())\n",
    "else:\n",
    "    print(\"No record\")\n",
    "    #for i in df_check.ID.unique()[-10:]:\n",
    "    \n",
    "for i in sorted(df_check.ID.unique())[-last_num:]:    \n",
    "    print('http://www.hkjcodds.com/match_board/'+str(i), df_check[df_check.ID == i].iloc[0].HANDI_LABEL )"
   ]
  },
  {
   "cell_type": "code",
   "execution_count": null,
   "metadata": {
    "collapsed": true
   },
   "outputs": [],
   "source": []
  },
  {
   "cell_type": "code",
   "execution_count": null,
   "metadata": {
    "collapsed": true
   },
   "outputs": [],
   "source": []
  },
  {
   "cell_type": "code",
   "execution_count": 147,
   "metadata": {},
   "outputs": [
    {
     "data": {
      "text/html": [
       "<div>\n",
       "<table border=\"1\" class=\"dataframe\">\n",
       "  <thead>\n",
       "    <tr style=\"text-align: right;\">\n",
       "      <th></th>\n",
       "      <th>AWAY</th>\n",
       "      <th>AWAY_CHANGE</th>\n",
       "      <th>AWAY_LAG</th>\n",
       "      <th>AWAY_SCORE</th>\n",
       "      <th>AWAY_TREND</th>\n",
       "      <th>DELTA</th>\n",
       "      <th>FIRST_LINE</th>\n",
       "      <th>HA</th>\n",
       "      <th>HANDI_LABEL</th>\n",
       "      <th>HOME</th>\n",
       "      <th>...</th>\n",
       "      <th>MATCH_RESULT</th>\n",
       "      <th>MATCH_TIME</th>\n",
       "      <th>O_FIRST_LINE</th>\n",
       "      <th>O_LINE</th>\n",
       "      <th>O_LINE_LEAD</th>\n",
       "      <th>TIME</th>\n",
       "      <th>TITLE</th>\n",
       "      <th>A_PAT_FOUND</th>\n",
       "      <th>H_PAT_FOUND</th>\n",
       "      <th>PAT_FOUND</th>\n",
       "    </tr>\n",
       "  </thead>\n",
       "  <tbody>\n",
       "    <tr>\n",
       "      <th>161</th>\n",
       "      <td>1.92</td>\n",
       "      <td>0</td>\n",
       "      <td>NaN</td>\n",
       "      <td>1</td>\n",
       "      <td>0++-++</td>\n",
       "      <td>NaT</td>\n",
       "      <td>(0/-0.5)</td>\n",
       "      <td>(1.85, 1.92)</td>\n",
       "      <td>H</td>\n",
       "      <td>1.85</td>\n",
       "      <td>...</td>\n",
       "      <td>(0 : 1) 2 : 1</td>\n",
       "      <td>2017-08-30 07:00:00</td>\n",
       "      <td>10</td>\n",
       "      <td>10</td>\n",
       "      <td>NaN</td>\n",
       "      <td>2017-08-28 19:31:00</td>\n",
       "      <td>古里高聯 VS 柏利斯天奴</td>\n",
       "      <td>N</td>\n",
       "      <td>Y</td>\n",
       "      <td>Y</td>\n",
       "    </tr>\n",
       "    <tr>\n",
       "      <th>162</th>\n",
       "      <td>1.93</td>\n",
       "      <td>0</td>\n",
       "      <td>NaN</td>\n",
       "      <td>1</td>\n",
       "      <td>0+++++</td>\n",
       "      <td>NaT</td>\n",
       "      <td>(0/-0.5)</td>\n",
       "      <td>(1.91, 1.93)</td>\n",
       "      <td>H</td>\n",
       "      <td>1.91</td>\n",
       "      <td>...</td>\n",
       "      <td>(1 : 0) 2 : 1</td>\n",
       "      <td>2017-09-02 22:00:00</td>\n",
       "      <td>10</td>\n",
       "      <td>10</td>\n",
       "      <td>NaN</td>\n",
       "      <td>2017-08-31 19:34:00</td>\n",
       "      <td>華素爾 VS 普利茅夫</td>\n",
       "      <td>N</td>\n",
       "      <td>Y</td>\n",
       "      <td>Y</td>\n",
       "    </tr>\n",
       "    <tr>\n",
       "      <th>163</th>\n",
       "      <td>1.94</td>\n",
       "      <td>0</td>\n",
       "      <td>NaN</td>\n",
       "      <td>1</td>\n",
       "      <td>0++++</td>\n",
       "      <td>NaT</td>\n",
       "      <td>(0/-0.5)</td>\n",
       "      <td>(1.9, 1.94)</td>\n",
       "      <td>H</td>\n",
       "      <td>1.90</td>\n",
       "      <td>...</td>\n",
       "      <td>(1 : 0) 2 : 1</td>\n",
       "      <td>2017-09-03 17:00:00</td>\n",
       "      <td>10</td>\n",
       "      <td>10</td>\n",
       "      <td>NaN</td>\n",
       "      <td>2017-08-31 19:34:00</td>\n",
       "      <td>FC岐阜 VS FC愛媛</td>\n",
       "      <td>N</td>\n",
       "      <td>Y</td>\n",
       "      <td>Y</td>\n",
       "    </tr>\n",
       "    <tr>\n",
       "      <th>164</th>\n",
       "      <td>1.86</td>\n",
       "      <td>0</td>\n",
       "      <td>NaN</td>\n",
       "      <td>0</td>\n",
       "      <td>0+++++</td>\n",
       "      <td>NaT</td>\n",
       "      <td>(0/-0.5)</td>\n",
       "      <td>(1.98, 1.86)</td>\n",
       "      <td>H</td>\n",
       "      <td>1.98</td>\n",
       "      <td>...</td>\n",
       "      <td>(1 : 0) 1 : 0</td>\n",
       "      <td>2017-09-10 20:30:00</td>\n",
       "      <td>10</td>\n",
       "      <td>10</td>\n",
       "      <td>NaN</td>\n",
       "      <td>2017-09-07 19:34:00</td>\n",
       "      <td>般尼 VS 水晶宮</td>\n",
       "      <td>N</td>\n",
       "      <td>Y</td>\n",
       "      <td>Y</td>\n",
       "    </tr>\n",
       "    <tr>\n",
       "      <th>165</th>\n",
       "      <td>1.80</td>\n",
       "      <td>0</td>\n",
       "      <td>NaN</td>\n",
       "      <td>1</td>\n",
       "      <td>0++++++++++</td>\n",
       "      <td>NaT</td>\n",
       "      <td>(0/-0.5)</td>\n",
       "      <td>(2.05, 1.8)</td>\n",
       "      <td>H</td>\n",
       "      <td>2.05</td>\n",
       "      <td>...</td>\n",
       "      <td>(2 : 1) 3 : 1</td>\n",
       "      <td>2017-09-14 02:45:00</td>\n",
       "      <td>10</td>\n",
       "      <td>10</td>\n",
       "      <td>NaN</td>\n",
       "      <td>2017-09-11 12:02:00</td>\n",
       "      <td>熱刺 VS 多蒙特</td>\n",
       "      <td>N</td>\n",
       "      <td>Y</td>\n",
       "      <td>Y</td>\n",
       "    </tr>\n",
       "    <tr>\n",
       "      <th>166</th>\n",
       "      <td>1.91</td>\n",
       "      <td>0</td>\n",
       "      <td>NaN</td>\n",
       "      <td>1</td>\n",
       "      <td>0+++++</td>\n",
       "      <td>NaT</td>\n",
       "      <td>(0/-0.5)</td>\n",
       "      <td>(1.93, 1.91)</td>\n",
       "      <td>H</td>\n",
       "      <td>1.93</td>\n",
       "      <td>...</td>\n",
       "      <td>(0 : 0) 2 : 1</td>\n",
       "      <td>2017-09-16 03:00:00</td>\n",
       "      <td>10</td>\n",
       "      <td>10</td>\n",
       "      <td>NaN</td>\n",
       "      <td>2017-09-14 12:03:00</td>\n",
       "      <td>般尼茅夫 VS 白禮頓</td>\n",
       "      <td>N</td>\n",
       "      <td>Y</td>\n",
       "      <td>Y</td>\n",
       "    </tr>\n",
       "    <tr>\n",
       "      <th>167</th>\n",
       "      <td>1.93</td>\n",
       "      <td>0</td>\n",
       "      <td>NaN</td>\n",
       "      <td>1</td>\n",
       "      <td>0++++++</td>\n",
       "      <td>NaT</td>\n",
       "      <td>(0/-0.5)</td>\n",
       "      <td>(1.91, 1.93)</td>\n",
       "      <td>H</td>\n",
       "      <td>1.91</td>\n",
       "      <td>...</td>\n",
       "      <td>(2 : 1) 2 : 1</td>\n",
       "      <td>2017-09-19 02:00:00</td>\n",
       "      <td>10</td>\n",
       "      <td>10</td>\n",
       "      <td>NaN</td>\n",
       "      <td>2017-09-15 19:44:00</td>\n",
       "      <td>樸迪莫倫斯 VS 費倫斯</td>\n",
       "      <td>N</td>\n",
       "      <td>Y</td>\n",
       "      <td>Y</td>\n",
       "    </tr>\n",
       "    <tr>\n",
       "      <th>168</th>\n",
       "      <td>1.78</td>\n",
       "      <td>0</td>\n",
       "      <td>NaN</td>\n",
       "      <td>0</td>\n",
       "      <td>0++++++</td>\n",
       "      <td>NaT</td>\n",
       "      <td>(0/-0.5)</td>\n",
       "      <td>(2.07, 1.78)</td>\n",
       "      <td>H</td>\n",
       "      <td>2.07</td>\n",
       "      <td>...</td>\n",
       "      <td>(0 : 0) 1 : 0</td>\n",
       "      <td>2017-09-20 03:00:00</td>\n",
       "      <td>10</td>\n",
       "      <td>10</td>\n",
       "      <td>NaN</td>\n",
       "      <td>2017-09-18 19:35:00</td>\n",
       "      <td>巴黎FC VS 奧連斯</td>\n",
       "      <td>N</td>\n",
       "      <td>Y</td>\n",
       "      <td>Y</td>\n",
       "    </tr>\n",
       "    <tr>\n",
       "      <th>169</th>\n",
       "      <td>1.78</td>\n",
       "      <td>0</td>\n",
       "      <td>NaN</td>\n",
       "      <td>4</td>\n",
       "      <td>0++++++</td>\n",
       "      <td>NaT</td>\n",
       "      <td>(0/-0.5)</td>\n",
       "      <td>(2.0, 1.78)</td>\n",
       "      <td>A</td>\n",
       "      <td>2.00</td>\n",
       "      <td>...</td>\n",
       "      <td>(0 : 2) 1 : 4</td>\n",
       "      <td>2017-09-28 10:30:00</td>\n",
       "      <td>10</td>\n",
       "      <td>10</td>\n",
       "      <td>NaN</td>\n",
       "      <td>2017-09-25 19:34:00</td>\n",
       "      <td>聖荷西地震 VS 芝加哥火燄</td>\n",
       "      <td>N</td>\n",
       "      <td>Y</td>\n",
       "      <td>Y</td>\n",
       "    </tr>\n",
       "    <tr>\n",
       "      <th>170</th>\n",
       "      <td>2.02</td>\n",
       "      <td>0</td>\n",
       "      <td>NaN</td>\n",
       "      <td>2</td>\n",
       "      <td>0++++</td>\n",
       "      <td>NaT</td>\n",
       "      <td>(0/-0.5)</td>\n",
       "      <td>(1.82, 2.02)</td>\n",
       "      <td>H</td>\n",
       "      <td>1.82</td>\n",
       "      <td>...</td>\n",
       "      <td>(1 : 1) 3 : 2</td>\n",
       "      <td>2017-10-01 01:45:00</td>\n",
       "      <td>10</td>\n",
       "      <td>10</td>\n",
       "      <td>NaN</td>\n",
       "      <td>2017-09-28 19:42:00</td>\n",
       "      <td>施禾利 VS 格羅寧根</td>\n",
       "      <td>N</td>\n",
       "      <td>Y</td>\n",
       "      <td>Y</td>\n",
       "    </tr>\n",
       "  </tbody>\n",
       "</table>\n",
       "<p>10 rows × 28 columns</p>\n",
       "</div>"
      ],
      "text/plain": [
       "     AWAY  AWAY_CHANGE AWAY_LAG  AWAY_SCORE   AWAY_TREND DELTA FIRST_LINE  \\\n",
       "161  1.92            0      NaN           1       0++-++   NaT   (0/-0.5)   \n",
       "162  1.93            0      NaN           1       0+++++   NaT   (0/-0.5)   \n",
       "163  1.94            0      NaN           1        0++++   NaT   (0/-0.5)   \n",
       "164  1.86            0      NaN           0       0+++++   NaT   (0/-0.5)   \n",
       "165  1.80            0      NaN           1  0++++++++++   NaT   (0/-0.5)   \n",
       "166  1.91            0      NaN           1       0+++++   NaT   (0/-0.5)   \n",
       "167  1.93            0      NaN           1      0++++++   NaT   (0/-0.5)   \n",
       "168  1.78            0      NaN           0      0++++++   NaT   (0/-0.5)   \n",
       "169  1.78            0      NaN           4      0++++++   NaT   (0/-0.5)   \n",
       "170  2.02            0      NaN           2        0++++   NaT   (0/-0.5)   \n",
       "\n",
       "               HA HANDI_LABEL  HOME    ...      MATCH_RESULT  \\\n",
       "161  (1.85, 1.92)           H  1.85    ...     (0 : 1) 2 : 1   \n",
       "162  (1.91, 1.93)           H  1.91    ...     (1 : 0) 2 : 1   \n",
       "163   (1.9, 1.94)           H  1.90    ...     (1 : 0) 2 : 1   \n",
       "164  (1.98, 1.86)           H  1.98    ...     (1 : 0) 1 : 0   \n",
       "165   (2.05, 1.8)           H  2.05    ...     (2 : 1) 3 : 1   \n",
       "166  (1.93, 1.91)           H  1.93    ...     (0 : 0) 2 : 1   \n",
       "167  (1.91, 1.93)           H  1.91    ...     (2 : 1) 2 : 1   \n",
       "168  (2.07, 1.78)           H  2.07    ...     (0 : 0) 1 : 0   \n",
       "169   (2.0, 1.78)           A  2.00    ...     (0 : 2) 1 : 4   \n",
       "170  (1.82, 2.02)           H  1.82    ...     (1 : 1) 3 : 2   \n",
       "\n",
       "             MATCH_TIME  O_FIRST_LINE O_LINE  O_LINE_LEAD                TIME  \\\n",
       "161 2017-08-30 07:00:00            10     10          NaN 2017-08-28 19:31:00   \n",
       "162 2017-09-02 22:00:00            10     10          NaN 2017-08-31 19:34:00   \n",
       "163 2017-09-03 17:00:00            10     10          NaN 2017-08-31 19:34:00   \n",
       "164 2017-09-10 20:30:00            10     10          NaN 2017-09-07 19:34:00   \n",
       "165 2017-09-14 02:45:00            10     10          NaN 2017-09-11 12:02:00   \n",
       "166 2017-09-16 03:00:00            10     10          NaN 2017-09-14 12:03:00   \n",
       "167 2017-09-19 02:00:00            10     10          NaN 2017-09-15 19:44:00   \n",
       "168 2017-09-20 03:00:00            10     10          NaN 2017-09-18 19:35:00   \n",
       "169 2017-09-28 10:30:00            10     10          NaN 2017-09-25 19:34:00   \n",
       "170 2017-10-01 01:45:00            10     10          NaN 2017-09-28 19:42:00   \n",
       "\n",
       "              TITLE A_PAT_FOUND H_PAT_FOUND PAT_FOUND  \n",
       "161   古里高聯 VS 柏利斯天奴           N           Y         Y  \n",
       "162     華素爾 VS 普利茅夫           N           Y         Y  \n",
       "163    FC岐阜 VS FC愛媛           N           Y         Y  \n",
       "164       般尼 VS 水晶宮           N           Y         Y  \n",
       "165       熱刺 VS 多蒙特           N           Y         Y  \n",
       "166     般尼茅夫 VS 白禮頓           N           Y         Y  \n",
       "167    樸迪莫倫斯 VS 費倫斯           N           Y         Y  \n",
       "168     巴黎FC VS 奧連斯           N           Y         Y  \n",
       "169  聖荷西地震 VS 芝加哥火燄           N           Y         Y  \n",
       "170     施禾利 VS 格羅寧根           N           Y         Y  \n",
       "\n",
       "[10 rows x 28 columns]"
      ]
     },
     "execution_count": 147,
     "metadata": {},
     "output_type": "execute_result"
    }
   ],
   "source": [
    "df_check.groupby('ID').apply(lambda x:x.iloc[0]).reset_index(drop=True).iloc[-10:]"
   ]
  },
  {
   "cell_type": "code",
   "execution_count": null,
   "metadata": {
    "collapsed": true
   },
   "outputs": [],
   "source": []
  },
  {
   "cell_type": "code",
   "execution_count": 144,
   "metadata": {},
   "outputs": [
    {
     "data": {
      "text/plain": [
       "HANDI_LABEL\n",
       "A    1\n",
       "H    9\n",
       "dtype: int64"
      ]
     },
     "execution_count": 144,
     "metadata": {},
     "output_type": "execute_result"
    }
   ],
   "source": [
    "df_check.groupby('ID').apply(lambda x:x.iloc[0]).reset_index(drop=True).iloc[-10:].groupby('HANDI_LABEL').size()"
   ]
  },
  {
   "cell_type": "code",
   "execution_count": 32,
   "metadata": {},
   "outputs": [
    {
     "data": {
      "text/plain": [
       "ID      HANDI_LABEL\n",
       "102390  H              12\n",
       "104364  H              10\n",
       "107615  H               9\n",
       "116010  H              20\n",
       "dtype: int64"
      ]
     },
     "execution_count": 32,
     "metadata": {},
     "output_type": "execute_result"
    }
   ],
   "source": [
    "df_summary[(df_summary.FIRST_LINE == '(0/+0.5)') & \n",
    "           (df_summary.LAST_LINE == '(0/+0.5)') &\n",
    "           (df_summary.A_PAT_FOUND =='Y') &\n",
    "           (df_summary.HOME_SCORE == df_summary.AWAY_SCORE)\n",
    "          ].groupby(['ID','HANDI_LABEL']).size()"
   ]
  },
  {
   "cell_type": "code",
   "execution_count": 27,
   "metadata": {},
   "outputs": [
    {
     "data": {
      "text/plain": [
       "0.5714285714285714"
      ]
     },
     "execution_count": 27,
     "metadata": {},
     "output_type": "execute_result"
    }
   ],
   "source": [
    "8/(8+6)"
   ]
  },
  {
   "cell_type": "code",
   "execution_count": 30,
   "metadata": {},
   "outputs": [
    {
     "data": {
      "text/plain": [
       "0.5"
      ]
     },
     "execution_count": 30,
     "metadata": {},
     "output_type": "execute_result"
    }
   ],
   "source": [
    "8/(8+6+2)"
   ]
  },
  {
   "cell_type": "code",
   "execution_count": 38,
   "metadata": {},
   "outputs": [
    {
     "data": {
      "text/plain": [
       "HANDI_LABEL\n",
       "A    47\n",
       "H    57\n",
       "dtype: int64"
      ]
     },
     "execution_count": 38,
     "metadata": {},
     "output_type": "execute_result"
    }
   ],
   "source": [
    "df_summary[(df_summary.FIRST_LINE == '(0/+0.5)') & \n",
    "           (df_summary.LAST_LINE == '(+0.5/+1)') &\n",
    "           (df_summary.A_PAT_FOUND =='Y') &\n",
    "           (df_summary.HOME_SCORE != df_summary.AWAY_SCORE)\n",
    "          ].groupby(['HANDI_LABEL']).size()"
   ]
  },
  {
   "cell_type": "code",
   "execution_count": 49,
   "metadata": {},
   "outputs": [
    {
     "data": {
      "text/plain": [
       "Series([], dtype: int64)"
      ]
     },
     "execution_count": 49,
     "metadata": {},
     "output_type": "execute_result"
    }
   ],
   "source": [
    "df_summary[(df_summary.FIRST_LINE == '(-1/-1.5)') & \n",
    "           (df_summary.LAST_LINE == '(-1/-1.5))') &\n",
    "           (df_summary.H_PAT_FOUND =='Y')\n",
    "          ].groupby(['HANDI_LABEL']).size()"
   ]
  },
  {
   "cell_type": "code",
   "execution_count": null,
   "metadata": {
    "collapsed": true
   },
   "outputs": [],
   "source": []
  }
 ],
 "metadata": {
  "anaconda-cloud": {},
  "kernelspec": {
   "display_name": "Python [Root]",
   "language": "python",
   "name": "Python [Root]"
  },
  "language_info": {
   "codemirror_mode": {
    "name": "ipython",
    "version": 3
   },
   "file_extension": ".py",
   "mimetype": "text/x-python",
   "name": "python",
   "nbconvert_exporter": "python",
   "pygments_lexer": "ipython3",
   "version": "3.5.2"
  }
 },
 "nbformat": 4,
 "nbformat_minor": 1
}
