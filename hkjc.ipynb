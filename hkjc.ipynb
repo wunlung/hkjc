{
 "cells": [
  {
   "cell_type": "code",
   "execution_count": 499,
   "metadata": {
    "collapsed": true
   },
   "outputs": [],
   "source": [
    "# Strategy \n",
    "# Follow + 200\n"
   ]
  },
  {
   "cell_type": "code",
   "execution_count": 4,
   "metadata": {
    "collapsed": true
   },
   "outputs": [],
   "source": [
    "from bs4 import BeautifulSoup\n",
    "import requests\n",
    "\n"
   ]
  },
  {
   "cell_type": "code",
   "execution_count": 119,
   "metadata": {
    "collapsed": true
   },
   "outputs": [],
   "source": [
    "web_data = []"
   ]
  },
  {
   "cell_type": "code",
   "execution_count": 126,
   "metadata": {
    "collapsed": true
   },
   "outputs": [],
   "source": [
    "web_data_0 = web_data"
   ]
  },
  {
   "cell_type": "code",
   "execution_count": 85,
   "metadata": {
    "collapsed": true
   },
   "outputs": [],
   "source": [
    "def get_data(date):\n",
    "    data = []\n",
    "    url = \"http://www.hkjcodds.com/download_match/web?S_Fmhkjcdate=\" + str(date)\n",
    "    response = requests.get(url)\n",
    "\n",
    "    soup = BeautifulSoup(response.content, \"html.parser\")\n",
    "\n",
    "    table = soup.find('table', attrs={'class':'table'})\n",
    "\n",
    "    rows = table.find_all('tr')\n",
    "    for row in rows[1:]:\n",
    "        cols = row.find_all('td')\n",
    "        cols = [ele.text.strip() for ele in cols]\n",
    "        #print(cols)\n",
    "        data.append(cols)\n",
    "    return data\n",
    "    #data.append((ele for ele in cols if ele))"
   ]
  },
  {
   "cell_type": "code",
   "execution_count": 421,
   "metadata": {
    "collapsed": true
   },
   "outputs": [],
   "source": [
    "import datetime\n",
    " \n",
    "def daterange( start_date, end_date ):\n",
    "    if start_date <= end_date:\n",
    "        for n in range( ( end_date - start_date ).days + 1 ):\n",
    "            yield start_date + datetime.timedelta( n )\n",
    "    else:\n",
    "        for n in range( ( start_date - end_date ).days + 1 ):\n",
    "            yield start_date - datetime.timedelta( n )\n",
    " \n",
    "start = datetime.date( year = 2017, month = 1, day = 1 )\n",
    "end = datetime.date( year = 2017, month = 4, day = 30 )\n",
    " \n",
    "for date in daterange( start, end ):\n",
    "    web_data+=get_data(date)"
   ]
  },
  {
   "cell_type": "code",
   "execution_count": 422,
   "metadata": {},
   "outputs": [
    {
     "data": {
      "text/plain": [
       "27305"
      ]
     },
     "execution_count": 422,
     "metadata": {},
     "output_type": "execute_result"
    }
   ],
   "source": [
    "len(web_data)"
   ]
  },
  {
   "cell_type": "code",
   "execution_count": 425,
   "metadata": {
    "collapsed": true
   },
   "outputs": [],
   "source": [
    "#column_names = [ele.text for ele in rows[0].find_all('th')]"
   ]
  },
  {
   "cell_type": "code",
   "execution_count": 426,
   "metadata": {
    "collapsed": true
   },
   "outputs": [],
   "source": [
    "column_names = ['日期',\n",
    " '時間',\n",
    " '主隊',\n",
    " '客隊',\n",
    " '賽果',\n",
    " '主',\n",
    " '和',\n",
    " '客',\n",
    " '主入球數',\n",
    " '客入球數',\n",
    " '主中',\n",
    " '和中',\n",
    " '客中',\n",
    " '讓球主客和',\n",
    " '讓主',\n",
    " '讓和',\n",
    " '讓客',\n",
    " '讓球主',\n",
    " '讓球客',\n",
    " '讓球',\n",
    " '半場主',\n",
    " '半場和',\n",
    " '半場客',\n",
    " '半主入球數',\n",
    " '半客入球數',\n",
    " '半主',\n",
    " '半和',\n",
    " '半客',\n",
    " '聯賽']"
   ]
  },
  {
   "cell_type": "code",
   "execution_count": 427,
   "metadata": {
    "collapsed": true
   },
   "outputs": [],
   "source": [
    "import pandas as pd"
   ]
  },
  {
   "cell_type": "code",
   "execution_count": 428,
   "metadata": {
    "collapsed": true
   },
   "outputs": [],
   "source": [
    "df = pd.DataFrame(web_data,columns=column_names)"
   ]
  },
  {
   "cell_type": "code",
   "execution_count": 429,
   "metadata": {},
   "outputs": [
    {
     "data": {
      "text/plain": [
       "27305"
      ]
     },
     "execution_count": 429,
     "metadata": {},
     "output_type": "execute_result"
    }
   ],
   "source": [
    "len(df)"
   ]
  },
  {
   "cell_type": "code",
   "execution_count": 430,
   "metadata": {},
   "outputs": [
    {
     "data": {
      "text/plain": [
       "Index(['日期', '時間', '主隊', '客隊', '賽果', '主', '和', '客', '主入球數', '客入球數', '主中', '和中',\n",
       "       '客中', '讓球主客和', '讓主', '讓和', '讓客', '讓球主', '讓球客', '讓球', '半場主', '半場和',\n",
       "       '半場客', '半主入球數', '半客入球數', '半主', '半和', '半客', '聯賽'],\n",
       "      dtype='object')"
      ]
     },
     "execution_count": 430,
     "metadata": {},
     "output_type": "execute_result"
    }
   ],
   "source": [
    "df.columns"
   ]
  },
  {
   "cell_type": "code",
   "execution_count": 431,
   "metadata": {
    "collapsed": true
   },
   "outputs": [],
   "source": [
    "#web_data[2000]"
   ]
  },
  {
   "cell_type": "code",
   "execution_count": 432,
   "metadata": {
    "collapsed": true
   },
   "outputs": [],
   "source": [
    "pd.set_option('display.max_columns', None)"
   ]
  },
  {
   "cell_type": "code",
   "execution_count": 433,
   "metadata": {},
   "outputs": [
    {
     "name": "stdout",
     "output_type": "stream",
     "text": [
      "           日期        時間   主隊     客隊 賽果      主      和      客 主入球數 客入球數 主中 和中 客中 讓球主客和    讓主    讓和    讓客   讓球主   讓球客       讓球   半場主   半場和   半場客 半主入球數 半客入球數 半主 半和 半客       聯賽\n",
      "0  2015-01-01  23:00:00  聖美倫  基爾馬諾克  全  2.480  3.000  2.580    1    2  0  0  中    -1  5.30  3.95  1.46  1.86  1.94        0  3.15  2.00  3.25     0     0  0  中  0  蘇格蘭超級聯賽\n",
      "1  2015-01-01  23:00:00  羅斯郡   恩華尼斯  全  4.000  3.300  1.750    1    3  0  0  中    +1  1.92  3.45  3.15  1.68  2.18  +0.5/+1  4.25  2.15  2.35     0     1  0  0  中  蘇格蘭超級聯賽\n",
      "2  2015-01-01  23:00:00  咸美頓   馬瑟韋爾  全  1.660  3.450  4.350    5    0  中  0  0    -1  2.92  3.35  2.05                       2.22  2.20  4.50     2     0  中  0  0  蘇格蘭超級聯賽\n",
      "3  2015-01-01  23:00:00  鴨巴甸   聖莊士東  全  1.620  3.350  4.800    2    0  中  0  0    -1  2.90  3.20  2.12  1.95  1.85  -0.5/-1  2.27  2.02  5.20     1     0  中  0  0  蘇格蘭超級聯賽\n",
      "4  2015-01-01  23:00:00  韋斯咸    西布朗  全  1.680  3.450  4.400    1    1  0  中  0    -1  3.05  3.30  2.02  2.02  1.79  -0.5/-1  2.25  2.13  4.65     1     1  0  中  0  英格蘭超級聯賽\n"
     ]
    }
   ],
   "source": [
    "print(df.head().to_string())"
   ]
  },
  {
   "cell_type": "markdown",
   "metadata": {},
   "source": [
    "# select features"
   ]
  },
  {
   "cell_type": "code",
   "execution_count": 495,
   "metadata": {
    "collapsed": true
   },
   "outputs": [],
   "source": [
    "df.to_csv('fb_db.csv',index=False)"
   ]
  },
  {
   "cell_type": "code",
   "execution_count": 434,
   "metadata": {},
   "outputs": [
    {
     "data": {
      "text/plain": [
       "Index(['日期', '時間', '主隊', '客隊', '賽果', '主', '和', '客', '主入球數', '客入球數', '主中', '和中',\n",
       "       '客中', '讓球主客和', '讓主', '讓和', '讓客', '讓球主', '讓球客', '讓球', '半場主', '半場和',\n",
       "       '半場客', '半主入球數', '半客入球數', '半主', '半和', '半客', '聯賽'],\n",
       "      dtype='object')"
      ]
     },
     "execution_count": 434,
     "metadata": {},
     "output_type": "execute_result"
    }
   ],
   "source": [
    "df.columns"
   ]
  },
  {
   "cell_type": "code",
   "execution_count": 435,
   "metadata": {
    "collapsed": true
   },
   "outputs": [],
   "source": [
    "df.讓球主 = df.讓球主.apply(lambda rec : 0 if rec == '' else rec )"
   ]
  },
  {
   "cell_type": "code",
   "execution_count": 436,
   "metadata": {
    "collapsed": true
   },
   "outputs": [],
   "source": [
    "df.讓球客 = df.讓球客.apply(lambda rec : 0 if rec == '' else rec )"
   ]
  },
  {
   "cell_type": "code",
   "execution_count": 446,
   "metadata": {
    "collapsed": true
   },
   "outputs": [],
   "source": [
    "# Filter out non\n",
    "df = df[~df.主入球數.isin(['', '-1'])]"
   ]
  },
  {
   "cell_type": "code",
   "execution_count": 456,
   "metadata": {
    "collapsed": true
   },
   "outputs": [],
   "source": [
    "df.主 = df.主.astype(float)\n",
    "df.和 = df.和.astype(float)\n",
    "df.客 = df.客.astype(float)\n",
    "df.讓球主 = df.讓球主.astype(float)\n",
    "df.讓球客 = df.讓球客.astype(float)\n",
    "df.主入球數 = df.主入球數.astype(int)\n",
    "df.客入球數 = df.客入球數.astype(int)"
   ]
  },
  {
   "cell_type": "code",
   "execution_count": 457,
   "metadata": {
    "collapsed": true
   },
   "outputs": [],
   "source": [
    "def get_result(row):\n",
    "    # Initial = 8\n",
    "    # Home Win = 1\n",
    "    # Draw = 0\n",
    "    # Away Win = -1\n",
    "    # Not found = 9\n",
    "    result = 8\n",
    "    if row['主入球數'] > row['客入球數']:\n",
    "        result = 1\n",
    "    elif row['主入球數'] == row['客入球數']:\n",
    "        result = 0\n",
    "    elif row['主入球數'] < row['客入球數']:\n",
    "        result = -1\n",
    "    else:\n",
    "        result = 9\n",
    "    return result"
   ]
  },
  {
   "cell_type": "code",
   "execution_count": 458,
   "metadata": {
    "collapsed": true
   },
   "outputs": [],
   "source": [
    "def get_percentage(row):\n",
    "    return 1/row.主 + 1/row.和 + 1/row.客"
   ]
  },
  {
   "cell_type": "code",
   "execution_count": 503,
   "metadata": {
    "collapsed": true
   },
   "outputs": [],
   "source": [
    "df['score'] = df.apply(lambda row: 7 if row['主入球數'] + row['客入球數'] >=7 else row['主入球數'] + row['客入球數'] ,axis=1)"
   ]
  },
  {
   "cell_type": "code",
   "execution_count": 459,
   "metadata": {
    "collapsed": true
   },
   "outputs": [],
   "source": [
    "df['result'] = df.apply(lambda row: get_result(row),axis=1)\n",
    "df['percentage'] = df.apply(lambda row: get_percentage(row),axis=1)"
   ]
  },
  {
   "cell_type": "code",
   "execution_count": 504,
   "metadata": {},
   "outputs": [
    {
     "data": {
      "text/plain": [
       "array([3, 4, 5, 2, 6, 0, 7, 1])"
      ]
     },
     "execution_count": 504,
     "metadata": {},
     "output_type": "execute_result"
    }
   ],
   "source": [
    "df['score'].unique()"
   ]
  },
  {
   "cell_type": "code",
   "execution_count": 508,
   "metadata": {
    "collapsed": true
   },
   "outputs": [],
   "source": [
    "sel_cols = ['主', '和', '客', '聯賽' ,'讓球','讓球主','讓球客', 'percentage', 'result','score']"
   ]
  },
  {
   "cell_type": "code",
   "execution_count": 509,
   "metadata": {
    "collapsed": true
   },
   "outputs": [],
   "source": [
    "df_in = df[sel_cols].copy()"
   ]
  },
  {
   "cell_type": "code",
   "execution_count": 510,
   "metadata": {
    "collapsed": true
   },
   "outputs": [],
   "source": [
    "#df_in.sort('percentage', ascending=False)"
   ]
  },
  {
   "cell_type": "code",
   "execution_count": 511,
   "metadata": {},
   "outputs": [
    {
     "data": {
      "text/html": [
       "<div>\n",
       "<table border=\"1\" class=\"dataframe\">\n",
       "  <thead>\n",
       "    <tr style=\"text-align: right;\">\n",
       "      <th></th>\n",
       "      <th>主</th>\n",
       "      <th>和</th>\n",
       "      <th>客</th>\n",
       "      <th>聯賽</th>\n",
       "      <th>讓球</th>\n",
       "      <th>讓球主</th>\n",
       "      <th>讓球客</th>\n",
       "      <th>percentage</th>\n",
       "      <th>result</th>\n",
       "      <th>score</th>\n",
       "    </tr>\n",
       "  </thead>\n",
       "  <tbody>\n",
       "    <tr>\n",
       "      <th>2596</th>\n",
       "      <td>3.1</td>\n",
       "      <td>3.10</td>\n",
       "      <td>2.10</td>\n",
       "      <td>日本乙組聯賽</td>\n",
       "      <td>0/+0.5</td>\n",
       "      <td>1.87</td>\n",
       "      <td>1.90</td>\n",
       "      <td>1.121352</td>\n",
       "      <td>0</td>\n",
       "      <td>0</td>\n",
       "    </tr>\n",
       "    <tr>\n",
       "      <th>9073</th>\n",
       "      <td>3.1</td>\n",
       "      <td>3.00</td>\n",
       "      <td>2.15</td>\n",
       "      <td>日本乙組聯賽</td>\n",
       "      <td>0/+0.5</td>\n",
       "      <td>1.80</td>\n",
       "      <td>1.97</td>\n",
       "      <td>1.121030</td>\n",
       "      <td>0</td>\n",
       "      <td>0</td>\n",
       "    </tr>\n",
       "    <tr>\n",
       "      <th>9345</th>\n",
       "      <td>3.1</td>\n",
       "      <td>3.20</td>\n",
       "      <td>2.05</td>\n",
       "      <td>日本乙組聯賽</td>\n",
       "      <td>0/+0.5</td>\n",
       "      <td>1.89</td>\n",
       "      <td>1.87</td>\n",
       "      <td>1.122886</td>\n",
       "      <td>-1</td>\n",
       "      <td>3</td>\n",
       "    </tr>\n",
       "    <tr>\n",
       "      <th>9644</th>\n",
       "      <td>3.1</td>\n",
       "      <td>3.05</td>\n",
       "      <td>2.12</td>\n",
       "      <td>日本乙組聯賽</td>\n",
       "      <td>0/+0.5</td>\n",
       "      <td>1.85</td>\n",
       "      <td>1.91</td>\n",
       "      <td>1.122148</td>\n",
       "      <td>1</td>\n",
       "      <td>1</td>\n",
       "    </tr>\n",
       "    <tr>\n",
       "      <th>13000</th>\n",
       "      <td>3.1</td>\n",
       "      <td>2.95</td>\n",
       "      <td>2.16</td>\n",
       "      <td>日本乙組聯賽</td>\n",
       "      <td>0/+0.5</td>\n",
       "      <td>1.83</td>\n",
       "      <td>1.94</td>\n",
       "      <td>1.124527</td>\n",
       "      <td>-1</td>\n",
       "      <td>3</td>\n",
       "    </tr>\n",
       "  </tbody>\n",
       "</table>\n",
       "</div>"
      ],
      "text/plain": [
       "         主     和     客      聯賽      讓球   讓球主   讓球客  percentage  result  score\n",
       "2596   3.1  3.10  2.10  日本乙組聯賽  0/+0.5  1.87  1.90    1.121352       0      0\n",
       "9073   3.1  3.00  2.15  日本乙組聯賽  0/+0.5  1.80  1.97    1.121030       0      0\n",
       "9345   3.1  3.20  2.05  日本乙組聯賽  0/+0.5  1.89  1.87    1.122886      -1      3\n",
       "9644   3.1  3.05  2.12  日本乙組聯賽  0/+0.5  1.85  1.91    1.122148       1      1\n",
       "13000  3.1  2.95  2.16  日本乙組聯賽  0/+0.5  1.83  1.94    1.124527      -1      3"
      ]
     },
     "execution_count": 511,
     "metadata": {},
     "output_type": "execute_result"
    }
   ],
   "source": [
    "df_in[ (df_in.聯賽 == '日本乙組聯賽') & (df_in.主 ==3.1)  ].head()"
   ]
  },
  {
   "cell_type": "code",
   "execution_count": 512,
   "metadata": {
    "collapsed": true
   },
   "outputs": [],
   "source": [
    "#df_in.聯賽.unique()"
   ]
  },
  {
   "cell_type": "code",
   "execution_count": 513,
   "metadata": {
    "collapsed": true
   },
   "outputs": [],
   "source": [
    "#df_in = df_in[df_in.聯賽  == '日本乙組聯賽']\n",
    "cols_to_transform = [ '聯賽','讓球' ]\n",
    "df_with_dummies = pd.get_dummies(df_in, columns = cols_to_transform )"
   ]
  },
  {
   "cell_type": "code",
   "execution_count": 514,
   "metadata": {
    "collapsed": true
   },
   "outputs": [],
   "source": [
    "from sklearn.cross_validation import KFold\n",
    "from sklearn.neighbors import KNeighborsClassifier\n",
    "from sklearn import metrics\n",
    "from sklearn.cross_validation import cross_val_score\n",
    "from sklearn.ensemble import RandomForestClassifier\n",
    "from sklearn.grid_search import GridSearchCV"
   ]
  },
  {
   "cell_type": "code",
   "execution_count": 515,
   "metadata": {},
   "outputs": [],
   "source": [
    "X = df_with_dummies[[col for col in df_with_dummies.columns if col not in ['result','score']]]\n",
    "y = df_in['score']"
   ]
  },
  {
   "cell_type": "code",
   "execution_count": 516,
   "metadata": {},
   "outputs": [
    {
     "name": "stdout",
     "output_type": "stream",
     "text": [
      "[ 0.19970523  0.21002211  0.21054572  0.19513095  0.20914792  0.18641565\n",
      "  0.20671835  0.19867061  0.1879616   0.18470632]\n"
     ]
    }
   ],
   "source": [
    "forest = RandomForestClassifier(n_estimators=100)\n",
    "scores = cross_val_score(forest, X, y, cv=10, scoring='accuracy')\n",
    "print(scores)"
   ]
  },
  {
   "cell_type": "code",
   "execution_count": null,
   "metadata": {
    "collapsed": true
   },
   "outputs": [],
   "source": []
  },
  {
   "cell_type": "code",
   "execution_count": 199,
   "metadata": {},
   "outputs": [
    {
     "name": "stdout",
     "output_type": "stream",
     "text": [
      "[ 0.44516408  0.43825561  0.44559585  0.43585313  0.44665227  0.44963251\n",
      "  0.43190661  0.45006485  0.43925638  0.44790316]\n"
     ]
    }
   ],
   "source": [
    "forest = RandomForestClassifier(n_estimators=700)\n",
    "scores = cross_val_score(forest, X, y, cv=10, scoring='accuracy')\n",
    "print(scores)"
   ]
  },
  {
   "cell_type": "code",
   "execution_count": 197,
   "metadata": {},
   "outputs": [
    {
     "name": "stdout",
     "output_type": "stream",
     "text": [
      "{'n_estimators': 700, 'max_features': 'auto'}\n"
     ]
    }
   ],
   "source": [
    "rfc = RandomForestClassifier(n_jobs=-1,max_features= 'sqrt' ,n_estimators=50, oob_score = True) \n",
    "\n",
    "param_grid = { \n",
    "    'n_estimators': [200, 700],\n",
    "    'max_features': ['auto', 'sqrt', 'log2']\n",
    "}\n",
    "\n",
    "CV_rfc = GridSearchCV(estimator=rfc, param_grid=param_grid, cv= 5)\n",
    "CV_rfc.fit(X, y)\n",
    "print(CV_rfc.best_params_)"
   ]
  },
  {
   "cell_type": "code",
   "execution_count": 211,
   "metadata": {
    "collapsed": true
   },
   "outputs": [],
   "source": []
  },
  {
   "cell_type": "code",
   "execution_count": 307,
   "metadata": {},
   "outputs": [
    {
     "data": {
      "text/html": [
       "<div>\n",
       "<table border=\"1\" class=\"dataframe\">\n",
       "  <thead>\n",
       "    <tr style=\"text-align: right;\">\n",
       "      <th></th>\n",
       "      <th>主</th>\n",
       "      <th>和</th>\n",
       "      <th>客</th>\n",
       "      <th>讓球</th>\n",
       "      <th>result</th>\n",
       "      <th>聯賽_日本乙組聯賽</th>\n",
       "    </tr>\n",
       "  </thead>\n",
       "  <tbody>\n",
       "    <tr>\n",
       "      <th>1852</th>\n",
       "      <td>4.55</td>\n",
       "      <td>3.60</td>\n",
       "      <td>1.60</td>\n",
       "      <td>+0.5/+1</td>\n",
       "      <td>2</td>\n",
       "      <td>1.0</td>\n",
       "    </tr>\n",
       "    <tr>\n",
       "      <th>1853</th>\n",
       "      <td>2.80</td>\n",
       "      <td>3.15</td>\n",
       "      <td>2.23</td>\n",
       "      <td>0/+0.5</td>\n",
       "      <td>3</td>\n",
       "      <td>1.0</td>\n",
       "    </tr>\n",
       "    <tr>\n",
       "      <th>1854</th>\n",
       "      <td>3.25</td>\n",
       "      <td>3.20</td>\n",
       "      <td>2.00</td>\n",
       "      <td>0/+0.5</td>\n",
       "      <td>1</td>\n",
       "      <td>1.0</td>\n",
       "    </tr>\n",
       "    <tr>\n",
       "      <th>1856</th>\n",
       "      <td>2.22</td>\n",
       "      <td>3.20</td>\n",
       "      <td>2.78</td>\n",
       "      <td>0/-0.5</td>\n",
       "      <td>2</td>\n",
       "      <td>1.0</td>\n",
       "    </tr>\n",
       "    <tr>\n",
       "      <th>1857</th>\n",
       "      <td>1.56</td>\n",
       "      <td>3.70</td>\n",
       "      <td>4.70</td>\n",
       "      <td>-0.5/-1</td>\n",
       "      <td>1</td>\n",
       "      <td>1.0</td>\n",
       "    </tr>\n",
       "  </tbody>\n",
       "</table>\n",
       "</div>"
      ],
      "text/plain": [
       "         主     和     客       讓球  result  聯賽_日本乙組聯賽\n",
       "1852  4.55  3.60  1.60  +0.5/+1       2        1.0\n",
       "1853  2.80  3.15  2.23   0/+0.5       3        1.0\n",
       "1854  3.25  3.20  2.00   0/+0.5       1        1.0\n",
       "1856  2.22  3.20  2.78   0/-0.5       2        1.0\n",
       "1857  1.56  3.70  4.70  -0.5/-1       1        1.0"
      ]
     },
     "execution_count": 307,
     "metadata": {},
     "output_type": "execute_result"
    }
   ],
   "source": [
    "df_with_dummies.head()"
   ]
  },
  {
   "cell_type": "code",
   "execution_count": null,
   "metadata": {
    "collapsed": true
   },
   "outputs": [],
   "source": []
  }
 ],
 "metadata": {
  "anaconda-cloud": {},
  "kernelspec": {
   "display_name": "Python [Root]",
   "language": "python",
   "name": "Python [Root]"
  },
  "language_info": {
   "codemirror_mode": {
    "name": "ipython",
    "version": 3
   },
   "file_extension": ".py",
   "mimetype": "text/x-python",
   "name": "python",
   "nbconvert_exporter": "python",
   "pygments_lexer": "ipython3",
   "version": "3.5.2"
  }
 },
 "nbformat": 4,
 "nbformat_minor": 1
}
